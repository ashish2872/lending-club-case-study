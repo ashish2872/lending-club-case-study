{
 "cells": [
  {
   "cell_type": "code",
   "execution_count": 2,
   "metadata": {},
   "outputs": [],
   "source": [
    "#Importing the Pandas, Numpy, Matplotlib and Seaborn Libraries\n",
    "\n",
    "import pandas as pd\n",
    "import numpy as np\n",
    "import matplotlib.pyplot as plt\n",
    "import seaborn as sns\n",
    "import warnings"
   ]
  },
  {
   "cell_type": "code",
   "execution_count": 3,
   "metadata": {},
   "outputs": [],
   "source": [
    "warnings.filterwarnings('ignore')\n",
    "pd.set_option('display.max_columns', None)\n",
    "pd.set_option('display.max_rows', 200)\n",
    "pd.set_option('display.max_colwidth', None)\n",
    "sns.set_style('darkgrid')"
   ]
  },
  {
   "cell_type": "code",
   "execution_count": 4,
   "metadata": {},
   "outputs": [],
   "source": [
    "#Loading the dataset\n",
    "df = pd.read_csv('loan.csv')"
   ]
  },
  {
   "cell_type": "markdown",
   "metadata": {},
   "source": [
    "# Understanding the Data"
   ]
  },
  {
   "cell_type": "code",
   "execution_count": 5,
   "metadata": {},
   "outputs": [
    {
     "data": {
      "text/html": [
       "<div>\n",
       "<style scoped>\n",
       "    .dataframe tbody tr th:only-of-type {\n",
       "        vertical-align: middle;\n",
       "    }\n",
       "\n",
       "    .dataframe tbody tr th {\n",
       "        vertical-align: top;\n",
       "    }\n",
       "\n",
       "    .dataframe thead th {\n",
       "        text-align: right;\n",
       "    }\n",
       "</style>\n",
       "<table border=\"1\" class=\"dataframe\">\n",
       "  <thead>\n",
       "    <tr style=\"text-align: right;\">\n",
       "      <th></th>\n",
       "      <th>id</th>\n",
       "      <th>member_id</th>\n",
       "      <th>loan_amnt</th>\n",
       "      <th>funded_amnt</th>\n",
       "      <th>funded_amnt_inv</th>\n",
       "      <th>installment</th>\n",
       "      <th>annual_inc</th>\n",
       "      <th>dti</th>\n",
       "      <th>delinq_2yrs</th>\n",
       "      <th>inq_last_6mths</th>\n",
       "      <th>mths_since_last_delinq</th>\n",
       "      <th>mths_since_last_record</th>\n",
       "      <th>open_acc</th>\n",
       "      <th>pub_rec</th>\n",
       "      <th>revol_bal</th>\n",
       "      <th>total_acc</th>\n",
       "      <th>out_prncp</th>\n",
       "      <th>out_prncp_inv</th>\n",
       "      <th>total_pymnt</th>\n",
       "      <th>total_pymnt_inv</th>\n",
       "      <th>total_rec_prncp</th>\n",
       "      <th>total_rec_int</th>\n",
       "      <th>total_rec_late_fee</th>\n",
       "      <th>recoveries</th>\n",
       "      <th>collection_recovery_fee</th>\n",
       "      <th>last_pymnt_amnt</th>\n",
       "      <th>collections_12_mths_ex_med</th>\n",
       "      <th>mths_since_last_major_derog</th>\n",
       "      <th>policy_code</th>\n",
       "      <th>annual_inc_joint</th>\n",
       "      <th>dti_joint</th>\n",
       "      <th>verification_status_joint</th>\n",
       "      <th>acc_now_delinq</th>\n",
       "      <th>tot_coll_amt</th>\n",
       "      <th>tot_cur_bal</th>\n",
       "      <th>open_acc_6m</th>\n",
       "      <th>open_il_6m</th>\n",
       "      <th>open_il_12m</th>\n",
       "      <th>open_il_24m</th>\n",
       "      <th>mths_since_rcnt_il</th>\n",
       "      <th>total_bal_il</th>\n",
       "      <th>il_util</th>\n",
       "      <th>open_rv_12m</th>\n",
       "      <th>open_rv_24m</th>\n",
       "      <th>max_bal_bc</th>\n",
       "      <th>all_util</th>\n",
       "      <th>total_rev_hi_lim</th>\n",
       "      <th>inq_fi</th>\n",
       "      <th>total_cu_tl</th>\n",
       "      <th>inq_last_12m</th>\n",
       "      <th>acc_open_past_24mths</th>\n",
       "      <th>avg_cur_bal</th>\n",
       "      <th>bc_open_to_buy</th>\n",
       "      <th>bc_util</th>\n",
       "      <th>chargeoff_within_12_mths</th>\n",
       "      <th>delinq_amnt</th>\n",
       "      <th>mo_sin_old_il_acct</th>\n",
       "      <th>mo_sin_old_rev_tl_op</th>\n",
       "      <th>mo_sin_rcnt_rev_tl_op</th>\n",
       "      <th>mo_sin_rcnt_tl</th>\n",
       "      <th>mort_acc</th>\n",
       "      <th>mths_since_recent_bc</th>\n",
       "      <th>mths_since_recent_bc_dlq</th>\n",
       "      <th>mths_since_recent_inq</th>\n",
       "      <th>mths_since_recent_revol_delinq</th>\n",
       "      <th>num_accts_ever_120_pd</th>\n",
       "      <th>num_actv_bc_tl</th>\n",
       "      <th>num_actv_rev_tl</th>\n",
       "      <th>num_bc_sats</th>\n",
       "      <th>num_bc_tl</th>\n",
       "      <th>num_il_tl</th>\n",
       "      <th>num_op_rev_tl</th>\n",
       "      <th>num_rev_accts</th>\n",
       "      <th>num_rev_tl_bal_gt_0</th>\n",
       "      <th>num_sats</th>\n",
       "      <th>num_tl_120dpd_2m</th>\n",
       "      <th>num_tl_30dpd</th>\n",
       "      <th>num_tl_90g_dpd_24m</th>\n",
       "      <th>num_tl_op_past_12m</th>\n",
       "      <th>pct_tl_nvr_dlq</th>\n",
       "      <th>percent_bc_gt_75</th>\n",
       "      <th>pub_rec_bankruptcies</th>\n",
       "      <th>tax_liens</th>\n",
       "      <th>tot_hi_cred_lim</th>\n",
       "      <th>total_bal_ex_mort</th>\n",
       "      <th>total_bc_limit</th>\n",
       "      <th>total_il_high_credit_limit</th>\n",
       "    </tr>\n",
       "  </thead>\n",
       "  <tbody>\n",
       "    <tr>\n",
       "      <th>count</th>\n",
       "      <td>3.971700e+04</td>\n",
       "      <td>3.971700e+04</td>\n",
       "      <td>39717.000000</td>\n",
       "      <td>39717.000000</td>\n",
       "      <td>39717.000000</td>\n",
       "      <td>39717.000000</td>\n",
       "      <td>3.971700e+04</td>\n",
       "      <td>39717.000000</td>\n",
       "      <td>39717.000000</td>\n",
       "      <td>39717.000000</td>\n",
       "      <td>14035.000000</td>\n",
       "      <td>2786.000000</td>\n",
       "      <td>39717.000000</td>\n",
       "      <td>39717.000000</td>\n",
       "      <td>39717.000000</td>\n",
       "      <td>39717.000000</td>\n",
       "      <td>39717.000000</td>\n",
       "      <td>39717.000000</td>\n",
       "      <td>39717.000000</td>\n",
       "      <td>39717.000000</td>\n",
       "      <td>39717.000000</td>\n",
       "      <td>39717.000000</td>\n",
       "      <td>39717.000000</td>\n",
       "      <td>39717.000000</td>\n",
       "      <td>39717.000000</td>\n",
       "      <td>39717.000000</td>\n",
       "      <td>39661.0</td>\n",
       "      <td>0.0</td>\n",
       "      <td>39717.0</td>\n",
       "      <td>0.0</td>\n",
       "      <td>0.0</td>\n",
       "      <td>0.0</td>\n",
       "      <td>39717.0</td>\n",
       "      <td>0.0</td>\n",
       "      <td>0.0</td>\n",
       "      <td>0.0</td>\n",
       "      <td>0.0</td>\n",
       "      <td>0.0</td>\n",
       "      <td>0.0</td>\n",
       "      <td>0.0</td>\n",
       "      <td>0.0</td>\n",
       "      <td>0.0</td>\n",
       "      <td>0.0</td>\n",
       "      <td>0.0</td>\n",
       "      <td>0.0</td>\n",
       "      <td>0.0</td>\n",
       "      <td>0.0</td>\n",
       "      <td>0.0</td>\n",
       "      <td>0.0</td>\n",
       "      <td>0.0</td>\n",
       "      <td>0.0</td>\n",
       "      <td>0.0</td>\n",
       "      <td>0.0</td>\n",
       "      <td>0.0</td>\n",
       "      <td>39661.0</td>\n",
       "      <td>39717.0</td>\n",
       "      <td>0.0</td>\n",
       "      <td>0.0</td>\n",
       "      <td>0.0</td>\n",
       "      <td>0.0</td>\n",
       "      <td>0.0</td>\n",
       "      <td>0.0</td>\n",
       "      <td>0.0</td>\n",
       "      <td>0.0</td>\n",
       "      <td>0.0</td>\n",
       "      <td>0.0</td>\n",
       "      <td>0.0</td>\n",
       "      <td>0.0</td>\n",
       "      <td>0.0</td>\n",
       "      <td>0.0</td>\n",
       "      <td>0.0</td>\n",
       "      <td>0.0</td>\n",
       "      <td>0.0</td>\n",
       "      <td>0.0</td>\n",
       "      <td>0.0</td>\n",
       "      <td>0.0</td>\n",
       "      <td>0.0</td>\n",
       "      <td>0.0</td>\n",
       "      <td>0.0</td>\n",
       "      <td>0.0</td>\n",
       "      <td>0.0</td>\n",
       "      <td>39020.000000</td>\n",
       "      <td>39678.0</td>\n",
       "      <td>0.0</td>\n",
       "      <td>0.0</td>\n",
       "      <td>0.0</td>\n",
       "      <td>0.0</td>\n",
       "    </tr>\n",
       "    <tr>\n",
       "      <th>mean</th>\n",
       "      <td>6.831319e+05</td>\n",
       "      <td>8.504636e+05</td>\n",
       "      <td>11219.443815</td>\n",
       "      <td>10947.713196</td>\n",
       "      <td>10397.448868</td>\n",
       "      <td>324.561922</td>\n",
       "      <td>6.896893e+04</td>\n",
       "      <td>13.315130</td>\n",
       "      <td>0.146512</td>\n",
       "      <td>0.869200</td>\n",
       "      <td>35.900962</td>\n",
       "      <td>69.698134</td>\n",
       "      <td>9.294408</td>\n",
       "      <td>0.055065</td>\n",
       "      <td>13382.528086</td>\n",
       "      <td>22.088828</td>\n",
       "      <td>51.227887</td>\n",
       "      <td>50.989768</td>\n",
       "      <td>12153.596544</td>\n",
       "      <td>11567.149118</td>\n",
       "      <td>9793.348813</td>\n",
       "      <td>2263.663172</td>\n",
       "      <td>1.363015</td>\n",
       "      <td>95.221624</td>\n",
       "      <td>12.406112</td>\n",
       "      <td>2678.826162</td>\n",
       "      <td>0.0</td>\n",
       "      <td>NaN</td>\n",
       "      <td>1.0</td>\n",
       "      <td>NaN</td>\n",
       "      <td>NaN</td>\n",
       "      <td>NaN</td>\n",
       "      <td>0.0</td>\n",
       "      <td>NaN</td>\n",
       "      <td>NaN</td>\n",
       "      <td>NaN</td>\n",
       "      <td>NaN</td>\n",
       "      <td>NaN</td>\n",
       "      <td>NaN</td>\n",
       "      <td>NaN</td>\n",
       "      <td>NaN</td>\n",
       "      <td>NaN</td>\n",
       "      <td>NaN</td>\n",
       "      <td>NaN</td>\n",
       "      <td>NaN</td>\n",
       "      <td>NaN</td>\n",
       "      <td>NaN</td>\n",
       "      <td>NaN</td>\n",
       "      <td>NaN</td>\n",
       "      <td>NaN</td>\n",
       "      <td>NaN</td>\n",
       "      <td>NaN</td>\n",
       "      <td>NaN</td>\n",
       "      <td>NaN</td>\n",
       "      <td>0.0</td>\n",
       "      <td>0.0</td>\n",
       "      <td>NaN</td>\n",
       "      <td>NaN</td>\n",
       "      <td>NaN</td>\n",
       "      <td>NaN</td>\n",
       "      <td>NaN</td>\n",
       "      <td>NaN</td>\n",
       "      <td>NaN</td>\n",
       "      <td>NaN</td>\n",
       "      <td>NaN</td>\n",
       "      <td>NaN</td>\n",
       "      <td>NaN</td>\n",
       "      <td>NaN</td>\n",
       "      <td>NaN</td>\n",
       "      <td>NaN</td>\n",
       "      <td>NaN</td>\n",
       "      <td>NaN</td>\n",
       "      <td>NaN</td>\n",
       "      <td>NaN</td>\n",
       "      <td>NaN</td>\n",
       "      <td>NaN</td>\n",
       "      <td>NaN</td>\n",
       "      <td>NaN</td>\n",
       "      <td>NaN</td>\n",
       "      <td>NaN</td>\n",
       "      <td>NaN</td>\n",
       "      <td>0.043260</td>\n",
       "      <td>0.0</td>\n",
       "      <td>NaN</td>\n",
       "      <td>NaN</td>\n",
       "      <td>NaN</td>\n",
       "      <td>NaN</td>\n",
       "    </tr>\n",
       "    <tr>\n",
       "      <th>std</th>\n",
       "      <td>2.106941e+05</td>\n",
       "      <td>2.656783e+05</td>\n",
       "      <td>7456.670694</td>\n",
       "      <td>7187.238670</td>\n",
       "      <td>7128.450439</td>\n",
       "      <td>208.874874</td>\n",
       "      <td>6.379377e+04</td>\n",
       "      <td>6.678594</td>\n",
       "      <td>0.491812</td>\n",
       "      <td>1.070219</td>\n",
       "      <td>22.020060</td>\n",
       "      <td>43.822529</td>\n",
       "      <td>4.400282</td>\n",
       "      <td>0.237200</td>\n",
       "      <td>15885.016641</td>\n",
       "      <td>11.401709</td>\n",
       "      <td>375.172839</td>\n",
       "      <td>373.824457</td>\n",
       "      <td>9042.040766</td>\n",
       "      <td>8942.672613</td>\n",
       "      <td>7065.522127</td>\n",
       "      <td>2608.111964</td>\n",
       "      <td>7.289979</td>\n",
       "      <td>688.744771</td>\n",
       "      <td>148.671593</td>\n",
       "      <td>4447.136012</td>\n",
       "      <td>0.0</td>\n",
       "      <td>NaN</td>\n",
       "      <td>0.0</td>\n",
       "      <td>NaN</td>\n",
       "      <td>NaN</td>\n",
       "      <td>NaN</td>\n",
       "      <td>0.0</td>\n",
       "      <td>NaN</td>\n",
       "      <td>NaN</td>\n",
       "      <td>NaN</td>\n",
       "      <td>NaN</td>\n",
       "      <td>NaN</td>\n",
       "      <td>NaN</td>\n",
       "      <td>NaN</td>\n",
       "      <td>NaN</td>\n",
       "      <td>NaN</td>\n",
       "      <td>NaN</td>\n",
       "      <td>NaN</td>\n",
       "      <td>NaN</td>\n",
       "      <td>NaN</td>\n",
       "      <td>NaN</td>\n",
       "      <td>NaN</td>\n",
       "      <td>NaN</td>\n",
       "      <td>NaN</td>\n",
       "      <td>NaN</td>\n",
       "      <td>NaN</td>\n",
       "      <td>NaN</td>\n",
       "      <td>NaN</td>\n",
       "      <td>0.0</td>\n",
       "      <td>0.0</td>\n",
       "      <td>NaN</td>\n",
       "      <td>NaN</td>\n",
       "      <td>NaN</td>\n",
       "      <td>NaN</td>\n",
       "      <td>NaN</td>\n",
       "      <td>NaN</td>\n",
       "      <td>NaN</td>\n",
       "      <td>NaN</td>\n",
       "      <td>NaN</td>\n",
       "      <td>NaN</td>\n",
       "      <td>NaN</td>\n",
       "      <td>NaN</td>\n",
       "      <td>NaN</td>\n",
       "      <td>NaN</td>\n",
       "      <td>NaN</td>\n",
       "      <td>NaN</td>\n",
       "      <td>NaN</td>\n",
       "      <td>NaN</td>\n",
       "      <td>NaN</td>\n",
       "      <td>NaN</td>\n",
       "      <td>NaN</td>\n",
       "      <td>NaN</td>\n",
       "      <td>NaN</td>\n",
       "      <td>NaN</td>\n",
       "      <td>NaN</td>\n",
       "      <td>0.204324</td>\n",
       "      <td>0.0</td>\n",
       "      <td>NaN</td>\n",
       "      <td>NaN</td>\n",
       "      <td>NaN</td>\n",
       "      <td>NaN</td>\n",
       "    </tr>\n",
       "    <tr>\n",
       "      <th>min</th>\n",
       "      <td>5.473400e+04</td>\n",
       "      <td>7.069900e+04</td>\n",
       "      <td>500.000000</td>\n",
       "      <td>500.000000</td>\n",
       "      <td>0.000000</td>\n",
       "      <td>15.690000</td>\n",
       "      <td>4.000000e+03</td>\n",
       "      <td>0.000000</td>\n",
       "      <td>0.000000</td>\n",
       "      <td>0.000000</td>\n",
       "      <td>0.000000</td>\n",
       "      <td>0.000000</td>\n",
       "      <td>2.000000</td>\n",
       "      <td>0.000000</td>\n",
       "      <td>0.000000</td>\n",
       "      <td>2.000000</td>\n",
       "      <td>0.000000</td>\n",
       "      <td>0.000000</td>\n",
       "      <td>0.000000</td>\n",
       "      <td>0.000000</td>\n",
       "      <td>0.000000</td>\n",
       "      <td>0.000000</td>\n",
       "      <td>0.000000</td>\n",
       "      <td>0.000000</td>\n",
       "      <td>0.000000</td>\n",
       "      <td>0.000000</td>\n",
       "      <td>0.0</td>\n",
       "      <td>NaN</td>\n",
       "      <td>1.0</td>\n",
       "      <td>NaN</td>\n",
       "      <td>NaN</td>\n",
       "      <td>NaN</td>\n",
       "      <td>0.0</td>\n",
       "      <td>NaN</td>\n",
       "      <td>NaN</td>\n",
       "      <td>NaN</td>\n",
       "      <td>NaN</td>\n",
       "      <td>NaN</td>\n",
       "      <td>NaN</td>\n",
       "      <td>NaN</td>\n",
       "      <td>NaN</td>\n",
       "      <td>NaN</td>\n",
       "      <td>NaN</td>\n",
       "      <td>NaN</td>\n",
       "      <td>NaN</td>\n",
       "      <td>NaN</td>\n",
       "      <td>NaN</td>\n",
       "      <td>NaN</td>\n",
       "      <td>NaN</td>\n",
       "      <td>NaN</td>\n",
       "      <td>NaN</td>\n",
       "      <td>NaN</td>\n",
       "      <td>NaN</td>\n",
       "      <td>NaN</td>\n",
       "      <td>0.0</td>\n",
       "      <td>0.0</td>\n",
       "      <td>NaN</td>\n",
       "      <td>NaN</td>\n",
       "      <td>NaN</td>\n",
       "      <td>NaN</td>\n",
       "      <td>NaN</td>\n",
       "      <td>NaN</td>\n",
       "      <td>NaN</td>\n",
       "      <td>NaN</td>\n",
       "      <td>NaN</td>\n",
       "      <td>NaN</td>\n",
       "      <td>NaN</td>\n",
       "      <td>NaN</td>\n",
       "      <td>NaN</td>\n",
       "      <td>NaN</td>\n",
       "      <td>NaN</td>\n",
       "      <td>NaN</td>\n",
       "      <td>NaN</td>\n",
       "      <td>NaN</td>\n",
       "      <td>NaN</td>\n",
       "      <td>NaN</td>\n",
       "      <td>NaN</td>\n",
       "      <td>NaN</td>\n",
       "      <td>NaN</td>\n",
       "      <td>NaN</td>\n",
       "      <td>NaN</td>\n",
       "      <td>0.000000</td>\n",
       "      <td>0.0</td>\n",
       "      <td>NaN</td>\n",
       "      <td>NaN</td>\n",
       "      <td>NaN</td>\n",
       "      <td>NaN</td>\n",
       "    </tr>\n",
       "    <tr>\n",
       "      <th>25%</th>\n",
       "      <td>5.162210e+05</td>\n",
       "      <td>6.667800e+05</td>\n",
       "      <td>5500.000000</td>\n",
       "      <td>5400.000000</td>\n",
       "      <td>5000.000000</td>\n",
       "      <td>167.020000</td>\n",
       "      <td>4.040400e+04</td>\n",
       "      <td>8.170000</td>\n",
       "      <td>0.000000</td>\n",
       "      <td>0.000000</td>\n",
       "      <td>18.000000</td>\n",
       "      <td>22.000000</td>\n",
       "      <td>6.000000</td>\n",
       "      <td>0.000000</td>\n",
       "      <td>3703.000000</td>\n",
       "      <td>13.000000</td>\n",
       "      <td>0.000000</td>\n",
       "      <td>0.000000</td>\n",
       "      <td>5576.930000</td>\n",
       "      <td>5112.310000</td>\n",
       "      <td>4600.000000</td>\n",
       "      <td>662.180000</td>\n",
       "      <td>0.000000</td>\n",
       "      <td>0.000000</td>\n",
       "      <td>0.000000</td>\n",
       "      <td>218.680000</td>\n",
       "      <td>0.0</td>\n",
       "      <td>NaN</td>\n",
       "      <td>1.0</td>\n",
       "      <td>NaN</td>\n",
       "      <td>NaN</td>\n",
       "      <td>NaN</td>\n",
       "      <td>0.0</td>\n",
       "      <td>NaN</td>\n",
       "      <td>NaN</td>\n",
       "      <td>NaN</td>\n",
       "      <td>NaN</td>\n",
       "      <td>NaN</td>\n",
       "      <td>NaN</td>\n",
       "      <td>NaN</td>\n",
       "      <td>NaN</td>\n",
       "      <td>NaN</td>\n",
       "      <td>NaN</td>\n",
       "      <td>NaN</td>\n",
       "      <td>NaN</td>\n",
       "      <td>NaN</td>\n",
       "      <td>NaN</td>\n",
       "      <td>NaN</td>\n",
       "      <td>NaN</td>\n",
       "      <td>NaN</td>\n",
       "      <td>NaN</td>\n",
       "      <td>NaN</td>\n",
       "      <td>NaN</td>\n",
       "      <td>NaN</td>\n",
       "      <td>0.0</td>\n",
       "      <td>0.0</td>\n",
       "      <td>NaN</td>\n",
       "      <td>NaN</td>\n",
       "      <td>NaN</td>\n",
       "      <td>NaN</td>\n",
       "      <td>NaN</td>\n",
       "      <td>NaN</td>\n",
       "      <td>NaN</td>\n",
       "      <td>NaN</td>\n",
       "      <td>NaN</td>\n",
       "      <td>NaN</td>\n",
       "      <td>NaN</td>\n",
       "      <td>NaN</td>\n",
       "      <td>NaN</td>\n",
       "      <td>NaN</td>\n",
       "      <td>NaN</td>\n",
       "      <td>NaN</td>\n",
       "      <td>NaN</td>\n",
       "      <td>NaN</td>\n",
       "      <td>NaN</td>\n",
       "      <td>NaN</td>\n",
       "      <td>NaN</td>\n",
       "      <td>NaN</td>\n",
       "      <td>NaN</td>\n",
       "      <td>NaN</td>\n",
       "      <td>NaN</td>\n",
       "      <td>0.000000</td>\n",
       "      <td>0.0</td>\n",
       "      <td>NaN</td>\n",
       "      <td>NaN</td>\n",
       "      <td>NaN</td>\n",
       "      <td>NaN</td>\n",
       "    </tr>\n",
       "    <tr>\n",
       "      <th>50%</th>\n",
       "      <td>6.656650e+05</td>\n",
       "      <td>8.508120e+05</td>\n",
       "      <td>10000.000000</td>\n",
       "      <td>9600.000000</td>\n",
       "      <td>8975.000000</td>\n",
       "      <td>280.220000</td>\n",
       "      <td>5.900000e+04</td>\n",
       "      <td>13.400000</td>\n",
       "      <td>0.000000</td>\n",
       "      <td>1.000000</td>\n",
       "      <td>34.000000</td>\n",
       "      <td>90.000000</td>\n",
       "      <td>9.000000</td>\n",
       "      <td>0.000000</td>\n",
       "      <td>8850.000000</td>\n",
       "      <td>20.000000</td>\n",
       "      <td>0.000000</td>\n",
       "      <td>0.000000</td>\n",
       "      <td>9899.640319</td>\n",
       "      <td>9287.150000</td>\n",
       "      <td>8000.000000</td>\n",
       "      <td>1348.910000</td>\n",
       "      <td>0.000000</td>\n",
       "      <td>0.000000</td>\n",
       "      <td>0.000000</td>\n",
       "      <td>546.140000</td>\n",
       "      <td>0.0</td>\n",
       "      <td>NaN</td>\n",
       "      <td>1.0</td>\n",
       "      <td>NaN</td>\n",
       "      <td>NaN</td>\n",
       "      <td>NaN</td>\n",
       "      <td>0.0</td>\n",
       "      <td>NaN</td>\n",
       "      <td>NaN</td>\n",
       "      <td>NaN</td>\n",
       "      <td>NaN</td>\n",
       "      <td>NaN</td>\n",
       "      <td>NaN</td>\n",
       "      <td>NaN</td>\n",
       "      <td>NaN</td>\n",
       "      <td>NaN</td>\n",
       "      <td>NaN</td>\n",
       "      <td>NaN</td>\n",
       "      <td>NaN</td>\n",
       "      <td>NaN</td>\n",
       "      <td>NaN</td>\n",
       "      <td>NaN</td>\n",
       "      <td>NaN</td>\n",
       "      <td>NaN</td>\n",
       "      <td>NaN</td>\n",
       "      <td>NaN</td>\n",
       "      <td>NaN</td>\n",
       "      <td>NaN</td>\n",
       "      <td>0.0</td>\n",
       "      <td>0.0</td>\n",
       "      <td>NaN</td>\n",
       "      <td>NaN</td>\n",
       "      <td>NaN</td>\n",
       "      <td>NaN</td>\n",
       "      <td>NaN</td>\n",
       "      <td>NaN</td>\n",
       "      <td>NaN</td>\n",
       "      <td>NaN</td>\n",
       "      <td>NaN</td>\n",
       "      <td>NaN</td>\n",
       "      <td>NaN</td>\n",
       "      <td>NaN</td>\n",
       "      <td>NaN</td>\n",
       "      <td>NaN</td>\n",
       "      <td>NaN</td>\n",
       "      <td>NaN</td>\n",
       "      <td>NaN</td>\n",
       "      <td>NaN</td>\n",
       "      <td>NaN</td>\n",
       "      <td>NaN</td>\n",
       "      <td>NaN</td>\n",
       "      <td>NaN</td>\n",
       "      <td>NaN</td>\n",
       "      <td>NaN</td>\n",
       "      <td>NaN</td>\n",
       "      <td>0.000000</td>\n",
       "      <td>0.0</td>\n",
       "      <td>NaN</td>\n",
       "      <td>NaN</td>\n",
       "      <td>NaN</td>\n",
       "      <td>NaN</td>\n",
       "    </tr>\n",
       "    <tr>\n",
       "      <th>75%</th>\n",
       "      <td>8.377550e+05</td>\n",
       "      <td>1.047339e+06</td>\n",
       "      <td>15000.000000</td>\n",
       "      <td>15000.000000</td>\n",
       "      <td>14400.000000</td>\n",
       "      <td>430.780000</td>\n",
       "      <td>8.230000e+04</td>\n",
       "      <td>18.600000</td>\n",
       "      <td>0.000000</td>\n",
       "      <td>1.000000</td>\n",
       "      <td>52.000000</td>\n",
       "      <td>104.000000</td>\n",
       "      <td>12.000000</td>\n",
       "      <td>0.000000</td>\n",
       "      <td>17058.000000</td>\n",
       "      <td>29.000000</td>\n",
       "      <td>0.000000</td>\n",
       "      <td>0.000000</td>\n",
       "      <td>16534.433040</td>\n",
       "      <td>15798.810000</td>\n",
       "      <td>13653.260000</td>\n",
       "      <td>2833.400000</td>\n",
       "      <td>0.000000</td>\n",
       "      <td>0.000000</td>\n",
       "      <td>0.000000</td>\n",
       "      <td>3293.160000</td>\n",
       "      <td>0.0</td>\n",
       "      <td>NaN</td>\n",
       "      <td>1.0</td>\n",
       "      <td>NaN</td>\n",
       "      <td>NaN</td>\n",
       "      <td>NaN</td>\n",
       "      <td>0.0</td>\n",
       "      <td>NaN</td>\n",
       "      <td>NaN</td>\n",
       "      <td>NaN</td>\n",
       "      <td>NaN</td>\n",
       "      <td>NaN</td>\n",
       "      <td>NaN</td>\n",
       "      <td>NaN</td>\n",
       "      <td>NaN</td>\n",
       "      <td>NaN</td>\n",
       "      <td>NaN</td>\n",
       "      <td>NaN</td>\n",
       "      <td>NaN</td>\n",
       "      <td>NaN</td>\n",
       "      <td>NaN</td>\n",
       "      <td>NaN</td>\n",
       "      <td>NaN</td>\n",
       "      <td>NaN</td>\n",
       "      <td>NaN</td>\n",
       "      <td>NaN</td>\n",
       "      <td>NaN</td>\n",
       "      <td>NaN</td>\n",
       "      <td>0.0</td>\n",
       "      <td>0.0</td>\n",
       "      <td>NaN</td>\n",
       "      <td>NaN</td>\n",
       "      <td>NaN</td>\n",
       "      <td>NaN</td>\n",
       "      <td>NaN</td>\n",
       "      <td>NaN</td>\n",
       "      <td>NaN</td>\n",
       "      <td>NaN</td>\n",
       "      <td>NaN</td>\n",
       "      <td>NaN</td>\n",
       "      <td>NaN</td>\n",
       "      <td>NaN</td>\n",
       "      <td>NaN</td>\n",
       "      <td>NaN</td>\n",
       "      <td>NaN</td>\n",
       "      <td>NaN</td>\n",
       "      <td>NaN</td>\n",
       "      <td>NaN</td>\n",
       "      <td>NaN</td>\n",
       "      <td>NaN</td>\n",
       "      <td>NaN</td>\n",
       "      <td>NaN</td>\n",
       "      <td>NaN</td>\n",
       "      <td>NaN</td>\n",
       "      <td>NaN</td>\n",
       "      <td>0.000000</td>\n",
       "      <td>0.0</td>\n",
       "      <td>NaN</td>\n",
       "      <td>NaN</td>\n",
       "      <td>NaN</td>\n",
       "      <td>NaN</td>\n",
       "    </tr>\n",
       "    <tr>\n",
       "      <th>max</th>\n",
       "      <td>1.077501e+06</td>\n",
       "      <td>1.314167e+06</td>\n",
       "      <td>35000.000000</td>\n",
       "      <td>35000.000000</td>\n",
       "      <td>35000.000000</td>\n",
       "      <td>1305.190000</td>\n",
       "      <td>6.000000e+06</td>\n",
       "      <td>29.990000</td>\n",
       "      <td>11.000000</td>\n",
       "      <td>8.000000</td>\n",
       "      <td>120.000000</td>\n",
       "      <td>129.000000</td>\n",
       "      <td>44.000000</td>\n",
       "      <td>4.000000</td>\n",
       "      <td>149588.000000</td>\n",
       "      <td>90.000000</td>\n",
       "      <td>6311.470000</td>\n",
       "      <td>6307.370000</td>\n",
       "      <td>58563.679930</td>\n",
       "      <td>58563.680000</td>\n",
       "      <td>35000.020000</td>\n",
       "      <td>23563.680000</td>\n",
       "      <td>180.200000</td>\n",
       "      <td>29623.350000</td>\n",
       "      <td>7002.190000</td>\n",
       "      <td>36115.200000</td>\n",
       "      <td>0.0</td>\n",
       "      <td>NaN</td>\n",
       "      <td>1.0</td>\n",
       "      <td>NaN</td>\n",
       "      <td>NaN</td>\n",
       "      <td>NaN</td>\n",
       "      <td>0.0</td>\n",
       "      <td>NaN</td>\n",
       "      <td>NaN</td>\n",
       "      <td>NaN</td>\n",
       "      <td>NaN</td>\n",
       "      <td>NaN</td>\n",
       "      <td>NaN</td>\n",
       "      <td>NaN</td>\n",
       "      <td>NaN</td>\n",
       "      <td>NaN</td>\n",
       "      <td>NaN</td>\n",
       "      <td>NaN</td>\n",
       "      <td>NaN</td>\n",
       "      <td>NaN</td>\n",
       "      <td>NaN</td>\n",
       "      <td>NaN</td>\n",
       "      <td>NaN</td>\n",
       "      <td>NaN</td>\n",
       "      <td>NaN</td>\n",
       "      <td>NaN</td>\n",
       "      <td>NaN</td>\n",
       "      <td>NaN</td>\n",
       "      <td>0.0</td>\n",
       "      <td>0.0</td>\n",
       "      <td>NaN</td>\n",
       "      <td>NaN</td>\n",
       "      <td>NaN</td>\n",
       "      <td>NaN</td>\n",
       "      <td>NaN</td>\n",
       "      <td>NaN</td>\n",
       "      <td>NaN</td>\n",
       "      <td>NaN</td>\n",
       "      <td>NaN</td>\n",
       "      <td>NaN</td>\n",
       "      <td>NaN</td>\n",
       "      <td>NaN</td>\n",
       "      <td>NaN</td>\n",
       "      <td>NaN</td>\n",
       "      <td>NaN</td>\n",
       "      <td>NaN</td>\n",
       "      <td>NaN</td>\n",
       "      <td>NaN</td>\n",
       "      <td>NaN</td>\n",
       "      <td>NaN</td>\n",
       "      <td>NaN</td>\n",
       "      <td>NaN</td>\n",
       "      <td>NaN</td>\n",
       "      <td>NaN</td>\n",
       "      <td>NaN</td>\n",
       "      <td>2.000000</td>\n",
       "      <td>0.0</td>\n",
       "      <td>NaN</td>\n",
       "      <td>NaN</td>\n",
       "      <td>NaN</td>\n",
       "      <td>NaN</td>\n",
       "    </tr>\n",
       "  </tbody>\n",
       "</table>\n",
       "</div>"
      ],
      "text/plain": [
       "                 id     member_id     loan_amnt   funded_amnt  \\\n",
       "count  3.971700e+04  3.971700e+04  39717.000000  39717.000000   \n",
       "mean   6.831319e+05  8.504636e+05  11219.443815  10947.713196   \n",
       "std    2.106941e+05  2.656783e+05   7456.670694   7187.238670   \n",
       "min    5.473400e+04  7.069900e+04    500.000000    500.000000   \n",
       "25%    5.162210e+05  6.667800e+05   5500.000000   5400.000000   \n",
       "50%    6.656650e+05  8.508120e+05  10000.000000   9600.000000   \n",
       "75%    8.377550e+05  1.047339e+06  15000.000000  15000.000000   \n",
       "max    1.077501e+06  1.314167e+06  35000.000000  35000.000000   \n",
       "\n",
       "       funded_amnt_inv   installment    annual_inc           dti  \\\n",
       "count     39717.000000  39717.000000  3.971700e+04  39717.000000   \n",
       "mean      10397.448868    324.561922  6.896893e+04     13.315130   \n",
       "std        7128.450439    208.874874  6.379377e+04      6.678594   \n",
       "min           0.000000     15.690000  4.000000e+03      0.000000   \n",
       "25%        5000.000000    167.020000  4.040400e+04      8.170000   \n",
       "50%        8975.000000    280.220000  5.900000e+04     13.400000   \n",
       "75%       14400.000000    430.780000  8.230000e+04     18.600000   \n",
       "max       35000.000000   1305.190000  6.000000e+06     29.990000   \n",
       "\n",
       "        delinq_2yrs  inq_last_6mths  mths_since_last_delinq  \\\n",
       "count  39717.000000    39717.000000            14035.000000   \n",
       "mean       0.146512        0.869200               35.900962   \n",
       "std        0.491812        1.070219               22.020060   \n",
       "min        0.000000        0.000000                0.000000   \n",
       "25%        0.000000        0.000000               18.000000   \n",
       "50%        0.000000        1.000000               34.000000   \n",
       "75%        0.000000        1.000000               52.000000   \n",
       "max       11.000000        8.000000              120.000000   \n",
       "\n",
       "       mths_since_last_record      open_acc       pub_rec      revol_bal  \\\n",
       "count             2786.000000  39717.000000  39717.000000   39717.000000   \n",
       "mean                69.698134      9.294408      0.055065   13382.528086   \n",
       "std                 43.822529      4.400282      0.237200   15885.016641   \n",
       "min                  0.000000      2.000000      0.000000       0.000000   \n",
       "25%                 22.000000      6.000000      0.000000    3703.000000   \n",
       "50%                 90.000000      9.000000      0.000000    8850.000000   \n",
       "75%                104.000000     12.000000      0.000000   17058.000000   \n",
       "max                129.000000     44.000000      4.000000  149588.000000   \n",
       "\n",
       "          total_acc     out_prncp  out_prncp_inv   total_pymnt  \\\n",
       "count  39717.000000  39717.000000   39717.000000  39717.000000   \n",
       "mean      22.088828     51.227887      50.989768  12153.596544   \n",
       "std       11.401709    375.172839     373.824457   9042.040766   \n",
       "min        2.000000      0.000000       0.000000      0.000000   \n",
       "25%       13.000000      0.000000       0.000000   5576.930000   \n",
       "50%       20.000000      0.000000       0.000000   9899.640319   \n",
       "75%       29.000000      0.000000       0.000000  16534.433040   \n",
       "max       90.000000   6311.470000    6307.370000  58563.679930   \n",
       "\n",
       "       total_pymnt_inv  total_rec_prncp  total_rec_int  total_rec_late_fee  \\\n",
       "count     39717.000000     39717.000000   39717.000000        39717.000000   \n",
       "mean      11567.149118      9793.348813    2263.663172            1.363015   \n",
       "std        8942.672613      7065.522127    2608.111964            7.289979   \n",
       "min           0.000000         0.000000       0.000000            0.000000   \n",
       "25%        5112.310000      4600.000000     662.180000            0.000000   \n",
       "50%        9287.150000      8000.000000    1348.910000            0.000000   \n",
       "75%       15798.810000     13653.260000    2833.400000            0.000000   \n",
       "max       58563.680000     35000.020000   23563.680000          180.200000   \n",
       "\n",
       "         recoveries  collection_recovery_fee  last_pymnt_amnt  \\\n",
       "count  39717.000000             39717.000000     39717.000000   \n",
       "mean      95.221624                12.406112      2678.826162   \n",
       "std      688.744771               148.671593      4447.136012   \n",
       "min        0.000000                 0.000000         0.000000   \n",
       "25%        0.000000                 0.000000       218.680000   \n",
       "50%        0.000000                 0.000000       546.140000   \n",
       "75%        0.000000                 0.000000      3293.160000   \n",
       "max    29623.350000              7002.190000     36115.200000   \n",
       "\n",
       "       collections_12_mths_ex_med  mths_since_last_major_derog  policy_code  \\\n",
       "count                     39661.0                          0.0      39717.0   \n",
       "mean                          0.0                          NaN          1.0   \n",
       "std                           0.0                          NaN          0.0   \n",
       "min                           0.0                          NaN          1.0   \n",
       "25%                           0.0                          NaN          1.0   \n",
       "50%                           0.0                          NaN          1.0   \n",
       "75%                           0.0                          NaN          1.0   \n",
       "max                           0.0                          NaN          1.0   \n",
       "\n",
       "       annual_inc_joint  dti_joint  verification_status_joint  acc_now_delinq  \\\n",
       "count               0.0        0.0                        0.0         39717.0   \n",
       "mean                NaN        NaN                        NaN             0.0   \n",
       "std                 NaN        NaN                        NaN             0.0   \n",
       "min                 NaN        NaN                        NaN             0.0   \n",
       "25%                 NaN        NaN                        NaN             0.0   \n",
       "50%                 NaN        NaN                        NaN             0.0   \n",
       "75%                 NaN        NaN                        NaN             0.0   \n",
       "max                 NaN        NaN                        NaN             0.0   \n",
       "\n",
       "       tot_coll_amt  tot_cur_bal  open_acc_6m  open_il_6m  open_il_12m  \\\n",
       "count           0.0          0.0          0.0         0.0          0.0   \n",
       "mean            NaN          NaN          NaN         NaN          NaN   \n",
       "std             NaN          NaN          NaN         NaN          NaN   \n",
       "min             NaN          NaN          NaN         NaN          NaN   \n",
       "25%             NaN          NaN          NaN         NaN          NaN   \n",
       "50%             NaN          NaN          NaN         NaN          NaN   \n",
       "75%             NaN          NaN          NaN         NaN          NaN   \n",
       "max             NaN          NaN          NaN         NaN          NaN   \n",
       "\n",
       "       open_il_24m  mths_since_rcnt_il  total_bal_il  il_util  open_rv_12m  \\\n",
       "count          0.0                 0.0           0.0      0.0          0.0   \n",
       "mean           NaN                 NaN           NaN      NaN          NaN   \n",
       "std            NaN                 NaN           NaN      NaN          NaN   \n",
       "min            NaN                 NaN           NaN      NaN          NaN   \n",
       "25%            NaN                 NaN           NaN      NaN          NaN   \n",
       "50%            NaN                 NaN           NaN      NaN          NaN   \n",
       "75%            NaN                 NaN           NaN      NaN          NaN   \n",
       "max            NaN                 NaN           NaN      NaN          NaN   \n",
       "\n",
       "       open_rv_24m  max_bal_bc  all_util  total_rev_hi_lim  inq_fi  \\\n",
       "count          0.0         0.0       0.0               0.0     0.0   \n",
       "mean           NaN         NaN       NaN               NaN     NaN   \n",
       "std            NaN         NaN       NaN               NaN     NaN   \n",
       "min            NaN         NaN       NaN               NaN     NaN   \n",
       "25%            NaN         NaN       NaN               NaN     NaN   \n",
       "50%            NaN         NaN       NaN               NaN     NaN   \n",
       "75%            NaN         NaN       NaN               NaN     NaN   \n",
       "max            NaN         NaN       NaN               NaN     NaN   \n",
       "\n",
       "       total_cu_tl  inq_last_12m  acc_open_past_24mths  avg_cur_bal  \\\n",
       "count          0.0           0.0                   0.0          0.0   \n",
       "mean           NaN           NaN                   NaN          NaN   \n",
       "std            NaN           NaN                   NaN          NaN   \n",
       "min            NaN           NaN                   NaN          NaN   \n",
       "25%            NaN           NaN                   NaN          NaN   \n",
       "50%            NaN           NaN                   NaN          NaN   \n",
       "75%            NaN           NaN                   NaN          NaN   \n",
       "max            NaN           NaN                   NaN          NaN   \n",
       "\n",
       "       bc_open_to_buy  bc_util  chargeoff_within_12_mths  delinq_amnt  \\\n",
       "count             0.0      0.0                   39661.0      39717.0   \n",
       "mean              NaN      NaN                       0.0          0.0   \n",
       "std               NaN      NaN                       0.0          0.0   \n",
       "min               NaN      NaN                       0.0          0.0   \n",
       "25%               NaN      NaN                       0.0          0.0   \n",
       "50%               NaN      NaN                       0.0          0.0   \n",
       "75%               NaN      NaN                       0.0          0.0   \n",
       "max               NaN      NaN                       0.0          0.0   \n",
       "\n",
       "       mo_sin_old_il_acct  mo_sin_old_rev_tl_op  mo_sin_rcnt_rev_tl_op  \\\n",
       "count                 0.0                   0.0                    0.0   \n",
       "mean                  NaN                   NaN                    NaN   \n",
       "std                   NaN                   NaN                    NaN   \n",
       "min                   NaN                   NaN                    NaN   \n",
       "25%                   NaN                   NaN                    NaN   \n",
       "50%                   NaN                   NaN                    NaN   \n",
       "75%                   NaN                   NaN                    NaN   \n",
       "max                   NaN                   NaN                    NaN   \n",
       "\n",
       "       mo_sin_rcnt_tl  mort_acc  mths_since_recent_bc  \\\n",
       "count             0.0       0.0                   0.0   \n",
       "mean              NaN       NaN                   NaN   \n",
       "std               NaN       NaN                   NaN   \n",
       "min               NaN       NaN                   NaN   \n",
       "25%               NaN       NaN                   NaN   \n",
       "50%               NaN       NaN                   NaN   \n",
       "75%               NaN       NaN                   NaN   \n",
       "max               NaN       NaN                   NaN   \n",
       "\n",
       "       mths_since_recent_bc_dlq  mths_since_recent_inq  \\\n",
       "count                       0.0                    0.0   \n",
       "mean                        NaN                    NaN   \n",
       "std                         NaN                    NaN   \n",
       "min                         NaN                    NaN   \n",
       "25%                         NaN                    NaN   \n",
       "50%                         NaN                    NaN   \n",
       "75%                         NaN                    NaN   \n",
       "max                         NaN                    NaN   \n",
       "\n",
       "       mths_since_recent_revol_delinq  num_accts_ever_120_pd  num_actv_bc_tl  \\\n",
       "count                             0.0                    0.0             0.0   \n",
       "mean                              NaN                    NaN             NaN   \n",
       "std                               NaN                    NaN             NaN   \n",
       "min                               NaN                    NaN             NaN   \n",
       "25%                               NaN                    NaN             NaN   \n",
       "50%                               NaN                    NaN             NaN   \n",
       "75%                               NaN                    NaN             NaN   \n",
       "max                               NaN                    NaN             NaN   \n",
       "\n",
       "       num_actv_rev_tl  num_bc_sats  num_bc_tl  num_il_tl  num_op_rev_tl  \\\n",
       "count              0.0          0.0        0.0        0.0            0.0   \n",
       "mean               NaN          NaN        NaN        NaN            NaN   \n",
       "std                NaN          NaN        NaN        NaN            NaN   \n",
       "min                NaN          NaN        NaN        NaN            NaN   \n",
       "25%                NaN          NaN        NaN        NaN            NaN   \n",
       "50%                NaN          NaN        NaN        NaN            NaN   \n",
       "75%                NaN          NaN        NaN        NaN            NaN   \n",
       "max                NaN          NaN        NaN        NaN            NaN   \n",
       "\n",
       "       num_rev_accts  num_rev_tl_bal_gt_0  num_sats  num_tl_120dpd_2m  \\\n",
       "count            0.0                  0.0       0.0               0.0   \n",
       "mean             NaN                  NaN       NaN               NaN   \n",
       "std              NaN                  NaN       NaN               NaN   \n",
       "min              NaN                  NaN       NaN               NaN   \n",
       "25%              NaN                  NaN       NaN               NaN   \n",
       "50%              NaN                  NaN       NaN               NaN   \n",
       "75%              NaN                  NaN       NaN               NaN   \n",
       "max              NaN                  NaN       NaN               NaN   \n",
       "\n",
       "       num_tl_30dpd  num_tl_90g_dpd_24m  num_tl_op_past_12m  pct_tl_nvr_dlq  \\\n",
       "count           0.0                 0.0                 0.0             0.0   \n",
       "mean            NaN                 NaN                 NaN             NaN   \n",
       "std             NaN                 NaN                 NaN             NaN   \n",
       "min             NaN                 NaN                 NaN             NaN   \n",
       "25%             NaN                 NaN                 NaN             NaN   \n",
       "50%             NaN                 NaN                 NaN             NaN   \n",
       "75%             NaN                 NaN                 NaN             NaN   \n",
       "max             NaN                 NaN                 NaN             NaN   \n",
       "\n",
       "       percent_bc_gt_75  pub_rec_bankruptcies  tax_liens  tot_hi_cred_lim  \\\n",
       "count               0.0          39020.000000    39678.0              0.0   \n",
       "mean                NaN              0.043260        0.0              NaN   \n",
       "std                 NaN              0.204324        0.0              NaN   \n",
       "min                 NaN              0.000000        0.0              NaN   \n",
       "25%                 NaN              0.000000        0.0              NaN   \n",
       "50%                 NaN              0.000000        0.0              NaN   \n",
       "75%                 NaN              0.000000        0.0              NaN   \n",
       "max                 NaN              2.000000        0.0              NaN   \n",
       "\n",
       "       total_bal_ex_mort  total_bc_limit  total_il_high_credit_limit  \n",
       "count                0.0             0.0                         0.0  \n",
       "mean                 NaN             NaN                         NaN  \n",
       "std                  NaN             NaN                         NaN  \n",
       "min                  NaN             NaN                         NaN  \n",
       "25%                  NaN             NaN                         NaN  \n",
       "50%                  NaN             NaN                         NaN  \n",
       "75%                  NaN             NaN                         NaN  \n",
       "max                  NaN             NaN                         NaN  "
      ]
     },
     "execution_count": 5,
     "metadata": {},
     "output_type": "execute_result"
    }
   ],
   "source": [
    "# Describing the data\n",
    "\n",
    "df.describe()"
   ]
  },
  {
   "cell_type": "markdown",
   "metadata": {},
   "source": [
    "## Step 1: Cleaning"
   ]
  },
  {
   "cell_type": "markdown",
   "metadata": {},
   "source": [
    "### Choosing columns\n",
    "There are columns with `Nan` values."
   ]
  },
  {
   "cell_type": "code",
   "execution_count": 6,
   "metadata": {},
   "outputs": [
    {
     "data": {
      "text/plain": [
       "id                                    0\n",
       "member_id                             0\n",
       "loan_amnt                             0\n",
       "funded_amnt                           0\n",
       "funded_amnt_inv                       0\n",
       "term                                  0\n",
       "int_rate                              0\n",
       "installment                           0\n",
       "grade                                 0\n",
       "sub_grade                             0\n",
       "emp_title                          2459\n",
       "emp_length                         1075\n",
       "home_ownership                        0\n",
       "annual_inc                            0\n",
       "verification_status                   0\n",
       "issue_d                               0\n",
       "loan_status                           0\n",
       "pymnt_plan                            0\n",
       "url                                   0\n",
       "desc                              12940\n",
       "purpose                               0\n",
       "title                                11\n",
       "zip_code                              0\n",
       "addr_state                            0\n",
       "dti                                   0\n",
       "delinq_2yrs                           0\n",
       "earliest_cr_line                      0\n",
       "inq_last_6mths                        0\n",
       "mths_since_last_delinq            25682\n",
       "mths_since_last_record            36931\n",
       "open_acc                              0\n",
       "pub_rec                               0\n",
       "revol_bal                             0\n",
       "revol_util                           50\n",
       "total_acc                             0\n",
       "initial_list_status                   0\n",
       "out_prncp                             0\n",
       "out_prncp_inv                         0\n",
       "total_pymnt                           0\n",
       "total_pymnt_inv                       0\n",
       "total_rec_prncp                       0\n",
       "total_rec_int                         0\n",
       "total_rec_late_fee                    0\n",
       "recoveries                            0\n",
       "collection_recovery_fee               0\n",
       "last_pymnt_d                         71\n",
       "last_pymnt_amnt                       0\n",
       "next_pymnt_d                      38577\n",
       "last_credit_pull_d                    2\n",
       "collections_12_mths_ex_med           56\n",
       "mths_since_last_major_derog       39717\n",
       "policy_code                           0\n",
       "application_type                      0\n",
       "annual_inc_joint                  39717\n",
       "dti_joint                         39717\n",
       "verification_status_joint         39717\n",
       "acc_now_delinq                        0\n",
       "tot_coll_amt                      39717\n",
       "tot_cur_bal                       39717\n",
       "open_acc_6m                       39717\n",
       "open_il_6m                        39717\n",
       "open_il_12m                       39717\n",
       "open_il_24m                       39717\n",
       "mths_since_rcnt_il                39717\n",
       "total_bal_il                      39717\n",
       "il_util                           39717\n",
       "open_rv_12m                       39717\n",
       "open_rv_24m                       39717\n",
       "max_bal_bc                        39717\n",
       "all_util                          39717\n",
       "total_rev_hi_lim                  39717\n",
       "inq_fi                            39717\n",
       "total_cu_tl                       39717\n",
       "inq_last_12m                      39717\n",
       "acc_open_past_24mths              39717\n",
       "avg_cur_bal                       39717\n",
       "bc_open_to_buy                    39717\n",
       "bc_util                           39717\n",
       "chargeoff_within_12_mths             56\n",
       "delinq_amnt                           0\n",
       "mo_sin_old_il_acct                39717\n",
       "mo_sin_old_rev_tl_op              39717\n",
       "mo_sin_rcnt_rev_tl_op             39717\n",
       "mo_sin_rcnt_tl                    39717\n",
       "mort_acc                          39717\n",
       "mths_since_recent_bc              39717\n",
       "mths_since_recent_bc_dlq          39717\n",
       "mths_since_recent_inq             39717\n",
       "mths_since_recent_revol_delinq    39717\n",
       "num_accts_ever_120_pd             39717\n",
       "num_actv_bc_tl                    39717\n",
       "num_actv_rev_tl                   39717\n",
       "num_bc_sats                       39717\n",
       "num_bc_tl                         39717\n",
       "num_il_tl                         39717\n",
       "num_op_rev_tl                     39717\n",
       "num_rev_accts                     39717\n",
       "num_rev_tl_bal_gt_0               39717\n",
       "num_sats                          39717\n",
       "num_tl_120dpd_2m                  39717\n",
       "num_tl_30dpd                      39717\n",
       "num_tl_90g_dpd_24m                39717\n",
       "num_tl_op_past_12m                39717\n",
       "pct_tl_nvr_dlq                    39717\n",
       "percent_bc_gt_75                  39717\n",
       "pub_rec_bankruptcies                697\n",
       "tax_liens                            39\n",
       "tot_hi_cred_lim                   39717\n",
       "total_bal_ex_mort                 39717\n",
       "total_bc_limit                    39717\n",
       "total_il_high_credit_limit        39717\n",
       "dtype: int64"
      ]
     },
     "execution_count": 6,
     "metadata": {},
     "output_type": "execute_result"
    }
   ],
   "source": [
    "df.isna().sum()"
   ]
  },
  {
   "cell_type": "markdown",
   "metadata": {},
   "source": [
    "As seen above, there are columns which do not contain any values. Some of the columns contain not but few values."
   ]
  },
  {
   "cell_type": "code",
   "execution_count": 7,
   "metadata": {},
   "outputs": [
    {
     "data": {
      "text/plain": [
       "57"
      ]
     },
     "execution_count": 7,
     "metadata": {},
     "output_type": "execute_result"
    }
   ],
   "source": [
    "(df.isna().sum() >= 0.5 * df.shape[0]).sum()"
   ]
  },
  {
   "cell_type": "markdown",
   "metadata": {},
   "source": [
    "57 columns have more than 50% vlues as null. I am choosing not to use them and dropping them from analysis."
   ]
  },
  {
   "cell_type": "code",
   "execution_count": 8,
   "metadata": {},
   "outputs": [
    {
     "data": {
      "text/html": [
       "<div>\n",
       "<style scoped>\n",
       "    .dataframe tbody tr th:only-of-type {\n",
       "        vertical-align: middle;\n",
       "    }\n",
       "\n",
       "    .dataframe tbody tr th {\n",
       "        vertical-align: top;\n",
       "    }\n",
       "\n",
       "    .dataframe thead th {\n",
       "        text-align: right;\n",
       "    }\n",
       "</style>\n",
       "<table border=\"1\" class=\"dataframe\">\n",
       "  <thead>\n",
       "    <tr style=\"text-align: right;\">\n",
       "      <th></th>\n",
       "      <th>id</th>\n",
       "      <th>member_id</th>\n",
       "      <th>loan_amnt</th>\n",
       "      <th>funded_amnt</th>\n",
       "      <th>funded_amnt_inv</th>\n",
       "      <th>term</th>\n",
       "      <th>int_rate</th>\n",
       "      <th>installment</th>\n",
       "      <th>grade</th>\n",
       "      <th>sub_grade</th>\n",
       "      <th>emp_title</th>\n",
       "      <th>emp_length</th>\n",
       "      <th>home_ownership</th>\n",
       "      <th>annual_inc</th>\n",
       "      <th>verification_status</th>\n",
       "      <th>issue_d</th>\n",
       "      <th>loan_status</th>\n",
       "      <th>pymnt_plan</th>\n",
       "      <th>url</th>\n",
       "      <th>desc</th>\n",
       "      <th>purpose</th>\n",
       "      <th>title</th>\n",
       "      <th>zip_code</th>\n",
       "      <th>addr_state</th>\n",
       "      <th>dti</th>\n",
       "      <th>delinq_2yrs</th>\n",
       "      <th>earliest_cr_line</th>\n",
       "      <th>inq_last_6mths</th>\n",
       "      <th>open_acc</th>\n",
       "      <th>pub_rec</th>\n",
       "      <th>revol_bal</th>\n",
       "      <th>revol_util</th>\n",
       "      <th>total_acc</th>\n",
       "      <th>initial_list_status</th>\n",
       "      <th>out_prncp</th>\n",
       "      <th>out_prncp_inv</th>\n",
       "      <th>total_pymnt</th>\n",
       "      <th>total_pymnt_inv</th>\n",
       "      <th>total_rec_prncp</th>\n",
       "      <th>total_rec_int</th>\n",
       "      <th>total_rec_late_fee</th>\n",
       "      <th>recoveries</th>\n",
       "      <th>collection_recovery_fee</th>\n",
       "      <th>last_pymnt_d</th>\n",
       "      <th>last_pymnt_amnt</th>\n",
       "      <th>last_credit_pull_d</th>\n",
       "      <th>collections_12_mths_ex_med</th>\n",
       "      <th>policy_code</th>\n",
       "      <th>application_type</th>\n",
       "      <th>acc_now_delinq</th>\n",
       "      <th>chargeoff_within_12_mths</th>\n",
       "      <th>delinq_amnt</th>\n",
       "      <th>pub_rec_bankruptcies</th>\n",
       "      <th>tax_liens</th>\n",
       "    </tr>\n",
       "  </thead>\n",
       "  <tbody>\n",
       "    <tr>\n",
       "      <th>2702</th>\n",
       "      <td>1033063</td>\n",
       "      <td>1262624</td>\n",
       "      <td>12000</td>\n",
       "      <td>12000</td>\n",
       "      <td>11750.0</td>\n",
       "      <td>60 months</td>\n",
       "      <td>12.69%</td>\n",
       "      <td>271.14</td>\n",
       "      <td>B</td>\n",
       "      <td>B5</td>\n",
       "      <td>Aloha Nursing &amp; Rehab Centre</td>\n",
       "      <td>3 years</td>\n",
       "      <td>OWN</td>\n",
       "      <td>60000.0</td>\n",
       "      <td>Source Verified</td>\n",
       "      <td>Dec-11</td>\n",
       "      <td>Fully Paid</td>\n",
       "      <td>n</td>\n",
       "      <td>https://lendingclub.com/browse/loanDetail.action?loan_id=1033063</td>\n",
       "      <td>The purpose for the biggest part of this loan is to consolidate my credit cards, this so I can improve my credit rating, simplify my life a bit and save money as well. I also wish to use a small portion of these funds for home improvement. I currently work in a stable job as a registered nurse. I receive about 5000 USD per month in salary, often more depending on the overtime I do. Seeing that I do not have any mortgages to pay for, I will be a very safe bet as I will have enough monthly funds to pay off this loan without problem.</td>\n",
       "      <td>debt_consolidation</td>\n",
       "      <td>Debt consolidation</td>\n",
       "      <td>967xx</td>\n",
       "      <td>HI</td>\n",
       "      <td>17.62</td>\n",
       "      <td>0</td>\n",
       "      <td>Sep-97</td>\n",
       "      <td>0</td>\n",
       "      <td>7</td>\n",
       "      <td>0</td>\n",
       "      <td>11082</td>\n",
       "      <td>69.30%</td>\n",
       "      <td>12</td>\n",
       "      <td>f</td>\n",
       "      <td>0.0</td>\n",
       "      <td>0.0</td>\n",
       "      <td>12376.115350</td>\n",
       "      <td>12118.28</td>\n",
       "      <td>12000.00</td>\n",
       "      <td>376.12</td>\n",
       "      <td>0.0</td>\n",
       "      <td>0.00</td>\n",
       "      <td>0.0</td>\n",
       "      <td>Mar-12</td>\n",
       "      <td>11839.55</td>\n",
       "      <td>Mar-12</td>\n",
       "      <td>0.0</td>\n",
       "      <td>1</td>\n",
       "      <td>INDIVIDUAL</td>\n",
       "      <td>0</td>\n",
       "      <td>0.0</td>\n",
       "      <td>0</td>\n",
       "      <td>0.0</td>\n",
       "      <td>0.0</td>\n",
       "    </tr>\n",
       "    <tr>\n",
       "      <th>12697</th>\n",
       "      <td>793653</td>\n",
       "      <td>998182</td>\n",
       "      <td>3025</td>\n",
       "      <td>3025</td>\n",
       "      <td>3025.0</td>\n",
       "      <td>36 months</td>\n",
       "      <td>10.99%</td>\n",
       "      <td>99.03</td>\n",
       "      <td>B</td>\n",
       "      <td>B3</td>\n",
       "      <td>US Air Force</td>\n",
       "      <td>10+ years</td>\n",
       "      <td>MORTGAGE</td>\n",
       "      <td>76793.0</td>\n",
       "      <td>Source Verified</td>\n",
       "      <td>Jun-11</td>\n",
       "      <td>Charged Off</td>\n",
       "      <td>n</td>\n",
       "      <td>https://lendingclub.com/browse/loanDetail.action?loan_id=793653</td>\n",
       "      <td>NaN</td>\n",
       "      <td>debt_consolidation</td>\n",
       "      <td>Lending club</td>\n",
       "      <td>782xx</td>\n",
       "      <td>TX</td>\n",
       "      <td>17.72</td>\n",
       "      <td>0</td>\n",
       "      <td>Oct-93</td>\n",
       "      <td>0</td>\n",
       "      <td>13</td>\n",
       "      <td>1</td>\n",
       "      <td>21057</td>\n",
       "      <td>67.50%</td>\n",
       "      <td>25</td>\n",
       "      <td>f</td>\n",
       "      <td>0.0</td>\n",
       "      <td>0.0</td>\n",
       "      <td>2673.810000</td>\n",
       "      <td>2673.81</td>\n",
       "      <td>2161.96</td>\n",
       "      <td>497.54</td>\n",
       "      <td>0.0</td>\n",
       "      <td>14.31</td>\n",
       "      <td>0.0</td>\n",
       "      <td>Oct-13</td>\n",
       "      <td>99.03</td>\n",
       "      <td>May-16</td>\n",
       "      <td>0.0</td>\n",
       "      <td>1</td>\n",
       "      <td>INDIVIDUAL</td>\n",
       "      <td>0</td>\n",
       "      <td>0.0</td>\n",
       "      <td>0</td>\n",
       "      <td>1.0</td>\n",
       "      <td>0.0</td>\n",
       "    </tr>\n",
       "    <tr>\n",
       "      <th>4970</th>\n",
       "      <td>979654</td>\n",
       "      <td>1202812</td>\n",
       "      <td>6000</td>\n",
       "      <td>6000</td>\n",
       "      <td>6000.0</td>\n",
       "      <td>36 months</td>\n",
       "      <td>8.90%</td>\n",
       "      <td>190.52</td>\n",
       "      <td>A</td>\n",
       "      <td>A5</td>\n",
       "      <td>Lowe's Home Improvement</td>\n",
       "      <td>7 years</td>\n",
       "      <td>MORTGAGE</td>\n",
       "      <td>31776.0</td>\n",
       "      <td>Verified</td>\n",
       "      <td>Oct-11</td>\n",
       "      <td>Fully Paid</td>\n",
       "      <td>n</td>\n",
       "      <td>https://lendingclub.com/browse/loanDetail.action?loan_id=979654</td>\n",
       "      <td>Borrower added on 10/17/11 &gt; This loan is to refinance my auto loan.  I havent missed a payment and I got 9 payments left on this loan.  The remaining balance is $6000.  Chevy cobalt 2007.  Thank you.&lt;br/&gt;</td>\n",
       "      <td>car</td>\n",
       "      <td>2007-cobalt</td>\n",
       "      <td>277xx</td>\n",
       "      <td>NC</td>\n",
       "      <td>18.28</td>\n",
       "      <td>0</td>\n",
       "      <td>Nov-01</td>\n",
       "      <td>1</td>\n",
       "      <td>4</td>\n",
       "      <td>0</td>\n",
       "      <td>2203</td>\n",
       "      <td>76%</td>\n",
       "      <td>8</td>\n",
       "      <td>f</td>\n",
       "      <td>0.0</td>\n",
       "      <td>0.0</td>\n",
       "      <td>6809.055312</td>\n",
       "      <td>6809.06</td>\n",
       "      <td>6000.00</td>\n",
       "      <td>809.06</td>\n",
       "      <td>0.0</td>\n",
       "      <td>0.00</td>\n",
       "      <td>0.0</td>\n",
       "      <td>Mar-14</td>\n",
       "      <td>1669.81</td>\n",
       "      <td>Mar-14</td>\n",
       "      <td>0.0</td>\n",
       "      <td>1</td>\n",
       "      <td>INDIVIDUAL</td>\n",
       "      <td>0</td>\n",
       "      <td>0.0</td>\n",
       "      <td>0</td>\n",
       "      <td>0.0</td>\n",
       "      <td>0.0</td>\n",
       "    </tr>\n",
       "  </tbody>\n",
       "</table>\n",
       "</div>"
      ],
      "text/plain": [
       "            id  member_id  loan_amnt  funded_amnt  funded_amnt_inv  \\\n",
       "2702   1033063    1262624      12000        12000          11750.0   \n",
       "12697   793653     998182       3025         3025           3025.0   \n",
       "4970    979654    1202812       6000         6000           6000.0   \n",
       "\n",
       "             term int_rate  installment grade sub_grade  \\\n",
       "2702    60 months   12.69%       271.14     B        B5   \n",
       "12697   36 months   10.99%        99.03     B        B3   \n",
       "4970    36 months    8.90%       190.52     A        A5   \n",
       "\n",
       "                          emp_title emp_length home_ownership  annual_inc  \\\n",
       "2702   Aloha Nursing & Rehab Centre    3 years            OWN     60000.0   \n",
       "12697                  US Air Force  10+ years       MORTGAGE     76793.0   \n",
       "4970        Lowe's Home Improvement    7 years       MORTGAGE     31776.0   \n",
       "\n",
       "      verification_status issue_d  loan_status pymnt_plan  \\\n",
       "2702      Source Verified  Dec-11   Fully Paid          n   \n",
       "12697     Source Verified  Jun-11  Charged Off          n   \n",
       "4970             Verified  Oct-11   Fully Paid          n   \n",
       "\n",
       "                                                                    url  \\\n",
       "2702   https://lendingclub.com/browse/loanDetail.action?loan_id=1033063   \n",
       "12697   https://lendingclub.com/browse/loanDetail.action?loan_id=793653   \n",
       "4970    https://lendingclub.com/browse/loanDetail.action?loan_id=979654   \n",
       "\n",
       "                                                                                                                                                                                                                                                                                                                                                                                                                                                                                                                                                            desc  \\\n",
       "2702   The purpose for the biggest part of this loan is to consolidate my credit cards, this so I can improve my credit rating, simplify my life a bit and save money as well. I also wish to use a small portion of these funds for home improvement. I currently work in a stable job as a registered nurse. I receive about 5000 USD per month in salary, often more depending on the overtime I do. Seeing that I do not have any mortgages to pay for, I will be a very safe bet as I will have enough monthly funds to pay off this loan without problem.    \n",
       "12697                                                                                                                                                                                                                                                                                                                                                                                                                                                                                                                                                        NaN   \n",
       "4970                                                                                                                                                                                                                                                                                                                                               Borrower added on 10/17/11 > This loan is to refinance my auto loan.  I havent missed a payment and I got 9 payments left on this loan.  The remaining balance is $6000.  Chevy cobalt 2007.  Thank you.<br/>   \n",
       "\n",
       "                  purpose               title zip_code addr_state    dti  \\\n",
       "2702   debt_consolidation  Debt consolidation    967xx         HI  17.62   \n",
       "12697  debt_consolidation        Lending club    782xx         TX  17.72   \n",
       "4970                  car        2007-cobalt     277xx         NC  18.28   \n",
       "\n",
       "       delinq_2yrs earliest_cr_line  inq_last_6mths  open_acc  pub_rec  \\\n",
       "2702             0           Sep-97               0         7        0   \n",
       "12697            0           Oct-93               0        13        1   \n",
       "4970             0           Nov-01               1         4        0   \n",
       "\n",
       "       revol_bal revol_util  total_acc initial_list_status  out_prncp  \\\n",
       "2702       11082     69.30%         12                   f        0.0   \n",
       "12697      21057     67.50%         25                   f        0.0   \n",
       "4970        2203        76%          8                   f        0.0   \n",
       "\n",
       "       out_prncp_inv   total_pymnt  total_pymnt_inv  total_rec_prncp  \\\n",
       "2702             0.0  12376.115350         12118.28         12000.00   \n",
       "12697            0.0   2673.810000          2673.81          2161.96   \n",
       "4970             0.0   6809.055312          6809.06          6000.00   \n",
       "\n",
       "       total_rec_int  total_rec_late_fee  recoveries  collection_recovery_fee  \\\n",
       "2702          376.12                 0.0        0.00                      0.0   \n",
       "12697         497.54                 0.0       14.31                      0.0   \n",
       "4970          809.06                 0.0        0.00                      0.0   \n",
       "\n",
       "      last_pymnt_d  last_pymnt_amnt last_credit_pull_d  \\\n",
       "2702        Mar-12         11839.55             Mar-12   \n",
       "12697       Oct-13            99.03             May-16   \n",
       "4970        Mar-14          1669.81             Mar-14   \n",
       "\n",
       "       collections_12_mths_ex_med  policy_code application_type  \\\n",
       "2702                          0.0            1       INDIVIDUAL   \n",
       "12697                         0.0            1       INDIVIDUAL   \n",
       "4970                          0.0            1       INDIVIDUAL   \n",
       "\n",
       "       acc_now_delinq  chargeoff_within_12_mths  delinq_amnt  \\\n",
       "2702                0                       0.0            0   \n",
       "12697               0                       0.0            0   \n",
       "4970                0                       0.0            0   \n",
       "\n",
       "       pub_rec_bankruptcies  tax_liens  \n",
       "2702                    0.0        0.0  \n",
       "12697                   1.0        0.0  \n",
       "4970                    0.0        0.0  "
      ]
     },
     "execution_count": 8,
     "metadata": {},
     "output_type": "execute_result"
    }
   ],
   "source": [
    "column_names = df.columns[df.isna().sum() <= 0.50 * df.shape[0]].tolist()\n",
    "data_df = df[column_names]\n",
    "del df\n",
    "data_df.sample(3)"
   ]
  },
  {
   "cell_type": "markdown",
   "metadata": {},
   "source": [
    "Another thing to check in the remaining column is the numbeor of unique values found in the each column"
   ]
  },
  {
   "cell_type": "code",
   "execution_count": 9,
   "metadata": {},
   "outputs": [
    {
     "data": {
      "text/plain": [
       "id                            39717\n",
       "member_id                     39717\n",
       "loan_amnt                       885\n",
       "funded_amnt                    1041\n",
       "funded_amnt_inv                8205\n",
       "term                              2\n",
       "int_rate                        371\n",
       "installment                   15383\n",
       "grade                             7\n",
       "sub_grade                        35\n",
       "emp_title                     28820\n",
       "emp_length                       11\n",
       "home_ownership                    5\n",
       "annual_inc                     5318\n",
       "verification_status               3\n",
       "issue_d                          55\n",
       "loan_status                       3\n",
       "pymnt_plan                        1\n",
       "url                           39717\n",
       "desc                          26527\n",
       "purpose                          14\n",
       "title                         19615\n",
       "zip_code                        823\n",
       "addr_state                       50\n",
       "dti                            2868\n",
       "delinq_2yrs                      11\n",
       "earliest_cr_line                526\n",
       "inq_last_6mths                    9\n",
       "open_acc                         40\n",
       "pub_rec                           5\n",
       "revol_bal                     21711\n",
       "revol_util                     1089\n",
       "total_acc                        82\n",
       "initial_list_status               1\n",
       "out_prncp                      1137\n",
       "out_prncp_inv                  1138\n",
       "total_pymnt                   37850\n",
       "total_pymnt_inv               37518\n",
       "total_rec_prncp                7976\n",
       "total_rec_int                 35148\n",
       "total_rec_late_fee             1356\n",
       "recoveries                     4040\n",
       "collection_recovery_fee        2616\n",
       "last_pymnt_d                    101\n",
       "last_pymnt_amnt               34930\n",
       "last_credit_pull_d              106\n",
       "collections_12_mths_ex_med        1\n",
       "policy_code                       1\n",
       "application_type                  1\n",
       "acc_now_delinq                    1\n",
       "chargeoff_within_12_mths          1\n",
       "delinq_amnt                       1\n",
       "pub_rec_bankruptcies              3\n",
       "tax_liens                         1\n",
       "dtype: int64"
      ]
     },
     "execution_count": 9,
     "metadata": {},
     "output_type": "execute_result"
    }
   ],
   "source": [
    "data_df.nunique()"
   ]
  },
  {
   "cell_type": "markdown",
   "metadata": {},
   "source": [
    "There are columns which contain only 1 value for all the rows. We are choosing not to use them either as they are not adding any information wrt to our target variable"
   ]
  },
  {
   "cell_type": "code",
   "execution_count": 10,
   "metadata": {},
   "outputs": [
    {
     "data": {
      "text/plain": [
       "9"
      ]
     },
     "execution_count": 10,
     "metadata": {},
     "output_type": "execute_result"
    }
   ],
   "source": [
    "(data_df.nunique() <= 1).sum()"
   ]
  },
  {
   "cell_type": "markdown",
   "metadata": {},
   "source": [
    "9 columns will additionally be removed from our dataset"
   ]
  },
  {
   "cell_type": "code",
   "execution_count": 11,
   "metadata": {},
   "outputs": [
    {
     "data": {
      "text/html": [
       "<div>\n",
       "<style scoped>\n",
       "    .dataframe tbody tr th:only-of-type {\n",
       "        vertical-align: middle;\n",
       "    }\n",
       "\n",
       "    .dataframe tbody tr th {\n",
       "        vertical-align: top;\n",
       "    }\n",
       "\n",
       "    .dataframe thead th {\n",
       "        text-align: right;\n",
       "    }\n",
       "</style>\n",
       "<table border=\"1\" class=\"dataframe\">\n",
       "  <thead>\n",
       "    <tr style=\"text-align: right;\">\n",
       "      <th></th>\n",
       "      <th>id</th>\n",
       "      <th>member_id</th>\n",
       "      <th>loan_amnt</th>\n",
       "      <th>funded_amnt</th>\n",
       "      <th>funded_amnt_inv</th>\n",
       "      <th>term</th>\n",
       "      <th>int_rate</th>\n",
       "      <th>installment</th>\n",
       "      <th>grade</th>\n",
       "      <th>sub_grade</th>\n",
       "      <th>emp_title</th>\n",
       "      <th>emp_length</th>\n",
       "      <th>home_ownership</th>\n",
       "      <th>annual_inc</th>\n",
       "      <th>verification_status</th>\n",
       "      <th>issue_d</th>\n",
       "      <th>loan_status</th>\n",
       "      <th>url</th>\n",
       "      <th>desc</th>\n",
       "      <th>purpose</th>\n",
       "      <th>title</th>\n",
       "      <th>zip_code</th>\n",
       "      <th>addr_state</th>\n",
       "      <th>dti</th>\n",
       "      <th>delinq_2yrs</th>\n",
       "      <th>earliest_cr_line</th>\n",
       "      <th>inq_last_6mths</th>\n",
       "      <th>open_acc</th>\n",
       "      <th>pub_rec</th>\n",
       "      <th>revol_bal</th>\n",
       "      <th>revol_util</th>\n",
       "      <th>total_acc</th>\n",
       "      <th>out_prncp</th>\n",
       "      <th>out_prncp_inv</th>\n",
       "      <th>total_pymnt</th>\n",
       "      <th>total_pymnt_inv</th>\n",
       "      <th>total_rec_prncp</th>\n",
       "      <th>total_rec_int</th>\n",
       "      <th>total_rec_late_fee</th>\n",
       "      <th>recoveries</th>\n",
       "      <th>collection_recovery_fee</th>\n",
       "      <th>last_pymnt_d</th>\n",
       "      <th>last_pymnt_amnt</th>\n",
       "      <th>last_credit_pull_d</th>\n",
       "      <th>pub_rec_bankruptcies</th>\n",
       "    </tr>\n",
       "  </thead>\n",
       "  <tbody>\n",
       "    <tr>\n",
       "      <th>35210</th>\n",
       "      <td>437508</td>\n",
       "      <td>525316</td>\n",
       "      <td>20000</td>\n",
       "      <td>20000</td>\n",
       "      <td>19654.88596</td>\n",
       "      <td>36 months</td>\n",
       "      <td>11.83%</td>\n",
       "      <td>662.68</td>\n",
       "      <td>B</td>\n",
       "      <td>B3</td>\n",
       "      <td>Ohio Attorney General's Office</td>\n",
       "      <td>1 year</td>\n",
       "      <td>MORTGAGE</td>\n",
       "      <td>84000.0</td>\n",
       "      <td>Not Verified</td>\n",
       "      <td>Sep-09</td>\n",
       "      <td>Fully Paid</td>\n",
       "      <td>https://lendingclub.com/browse/loanDetail.action?loan_id=437508</td>\n",
       "      <td>credit card debt consolidation</td>\n",
       "      <td>credit_card</td>\n",
       "      <td>credit card debt consolidation</td>\n",
       "      <td>430xx</td>\n",
       "      <td>OH</td>\n",
       "      <td>15.91</td>\n",
       "      <td>0</td>\n",
       "      <td>Nov-94</td>\n",
       "      <td>4</td>\n",
       "      <td>16</td>\n",
       "      <td>0</td>\n",
       "      <td>12870</td>\n",
       "      <td>12.10%</td>\n",
       "      <td>52</td>\n",
       "      <td>0.0</td>\n",
       "      <td>0.0</td>\n",
       "      <td>23856.433820</td>\n",
       "      <td>23435.77</td>\n",
       "      <td>20000.0</td>\n",
       "      <td>3856.43</td>\n",
       "      <td>0.0</td>\n",
       "      <td>0.0</td>\n",
       "      <td>0.0</td>\n",
       "      <td>Sep-12</td>\n",
       "      <td>724.00</td>\n",
       "      <td>Sep-12</td>\n",
       "      <td>0.0</td>\n",
       "    </tr>\n",
       "    <tr>\n",
       "      <th>13138</th>\n",
       "      <td>782884</td>\n",
       "      <td>985942</td>\n",
       "      <td>24000</td>\n",
       "      <td>24000</td>\n",
       "      <td>24000.00000</td>\n",
       "      <td>60 months</td>\n",
       "      <td>22.85%</td>\n",
       "      <td>674.51</td>\n",
       "      <td>G</td>\n",
       "      <td>G3</td>\n",
       "      <td>PEARSON CHRYSLER JEEP DODGE</td>\n",
       "      <td>2 years</td>\n",
       "      <td>RENT</td>\n",
       "      <td>72000.0</td>\n",
       "      <td>Source Verified</td>\n",
       "      <td>Jun-11</td>\n",
       "      <td>Fully Paid</td>\n",
       "      <td>https://lendingclub.com/browse/loanDetail.action?loan_id=782884</td>\n",
       "      <td>Borrower added on 06/16/11 &gt; ALL FUNDS USED FOR DEBT CONSOLIDATION!&lt;br/&gt;</td>\n",
       "      <td>other</td>\n",
       "      <td>Other Loan</td>\n",
       "      <td>232xx</td>\n",
       "      <td>VA</td>\n",
       "      <td>14.00</td>\n",
       "      <td>1</td>\n",
       "      <td>May-96</td>\n",
       "      <td>2</td>\n",
       "      <td>11</td>\n",
       "      <td>0</td>\n",
       "      <td>8515</td>\n",
       "      <td>92.60%</td>\n",
       "      <td>19</td>\n",
       "      <td>0.0</td>\n",
       "      <td>0.0</td>\n",
       "      <td>31148.334800</td>\n",
       "      <td>31148.33</td>\n",
       "      <td>24000.0</td>\n",
       "      <td>7148.33</td>\n",
       "      <td>0.0</td>\n",
       "      <td>0.0</td>\n",
       "      <td>0.0</td>\n",
       "      <td>Dec-12</td>\n",
       "      <td>20360.09</td>\n",
       "      <td>May-16</td>\n",
       "      <td>0.0</td>\n",
       "    </tr>\n",
       "    <tr>\n",
       "      <th>31048</th>\n",
       "      <td>500297</td>\n",
       "      <td>642489</td>\n",
       "      <td>6500</td>\n",
       "      <td>6500</td>\n",
       "      <td>6500.00000</td>\n",
       "      <td>36 months</td>\n",
       "      <td>15.33%</td>\n",
       "      <td>226.39</td>\n",
       "      <td>D</td>\n",
       "      <td>D3</td>\n",
       "      <td>Total Systems Development</td>\n",
       "      <td>3 years</td>\n",
       "      <td>MORTGAGE</td>\n",
       "      <td>37500.0</td>\n",
       "      <td>Source Verified</td>\n",
       "      <td>Apr-10</td>\n",
       "      <td>Fully Paid</td>\n",
       "      <td>https://lendingclub.com/browse/loanDetail.action?loan_id=500297</td>\n",
       "      <td>Borrower added on 04/01/10 &gt; My wife and I are expecting a baby in July and need to finish a renovation project before he arrives. His room and bathroom need to be finished. At the moment the two rooms are gutted, with new wiring and plumbing. We have been in the process of remodeling our entire home, finishing projects month by month. Repayment will not affect us financially, as we have been spending around $2500 every month on the remodel. Getting this project done will take a great deal of stress off my wife and I, allowing us to better prepare ourselves for our second child.&lt;br/&gt;</td>\n",
       "      <td>home_improvement</td>\n",
       "      <td>Home Improvement Baby on the Way</td>\n",
       "      <td>403xx</td>\n",
       "      <td>KY</td>\n",
       "      <td>2.88</td>\n",
       "      <td>0</td>\n",
       "      <td>Aug-04</td>\n",
       "      <td>0</td>\n",
       "      <td>2</td>\n",
       "      <td>0</td>\n",
       "      <td>2725</td>\n",
       "      <td>90.80%</td>\n",
       "      <td>3</td>\n",
       "      <td>0.0</td>\n",
       "      <td>0.0</td>\n",
       "      <td>8149.811174</td>\n",
       "      <td>8149.81</td>\n",
       "      <td>6500.0</td>\n",
       "      <td>1649.81</td>\n",
       "      <td>0.0</td>\n",
       "      <td>0.0</td>\n",
       "      <td>0.0</td>\n",
       "      <td>Apr-13</td>\n",
       "      <td>231.61</td>\n",
       "      <td>May-16</td>\n",
       "      <td>0.0</td>\n",
       "    </tr>\n",
       "  </tbody>\n",
       "</table>\n",
       "</div>"
      ],
      "text/plain": [
       "           id  member_id  loan_amnt  funded_amnt  funded_amnt_inv        term  \\\n",
       "35210  437508     525316      20000        20000      19654.88596   36 months   \n",
       "13138  782884     985942      24000        24000      24000.00000   60 months   \n",
       "31048  500297     642489       6500         6500       6500.00000   36 months   \n",
       "\n",
       "      int_rate  installment grade sub_grade                       emp_title  \\\n",
       "35210   11.83%       662.68     B        B3  Ohio Attorney General's Office   \n",
       "13138   22.85%       674.51     G        G3     PEARSON CHRYSLER JEEP DODGE   \n",
       "31048   15.33%       226.39     D        D3       Total Systems Development   \n",
       "\n",
       "      emp_length home_ownership  annual_inc verification_status issue_d  \\\n",
       "35210     1 year       MORTGAGE     84000.0        Not Verified  Sep-09   \n",
       "13138    2 years           RENT     72000.0     Source Verified  Jun-11   \n",
       "31048    3 years       MORTGAGE     37500.0     Source Verified  Apr-10   \n",
       "\n",
       "      loan_status  \\\n",
       "35210  Fully Paid   \n",
       "13138  Fully Paid   \n",
       "31048  Fully Paid   \n",
       "\n",
       "                                                                   url  \\\n",
       "35210  https://lendingclub.com/browse/loanDetail.action?loan_id=437508   \n",
       "13138  https://lendingclub.com/browse/loanDetail.action?loan_id=782884   \n",
       "31048  https://lendingclub.com/browse/loanDetail.action?loan_id=500297   \n",
       "\n",
       "                                                                                                                                                                                                                                                                                                                                                                                                                                                                                                                                                                                                                   desc  \\\n",
       "35210                                                                                                                                                                                                                                                                                                                                                                                                                                                                                                                                                                                    credit card debt consolidation   \n",
       "13138                                                                                                                                                                                                                                                                                                                                                                                                                                                                                                                                          Borrower added on 06/16/11 > ALL FUNDS USED FOR DEBT CONSOLIDATION!<br/>   \n",
       "31048    Borrower added on 04/01/10 > My wife and I are expecting a baby in July and need to finish a renovation project before he arrives. His room and bathroom need to be finished. At the moment the two rooms are gutted, with new wiring and plumbing. We have been in the process of remodeling our entire home, finishing projects month by month. Repayment will not affect us financially, as we have been spending around $2500 every month on the remodel. Getting this project done will take a great deal of stress off my wife and I, allowing us to better prepare ourselves for our second child.<br/>   \n",
       "\n",
       "                purpose                             title zip_code addr_state  \\\n",
       "35210       credit_card    credit card debt consolidation    430xx         OH   \n",
       "13138             other                        Other Loan    232xx         VA   \n",
       "31048  home_improvement  Home Improvement Baby on the Way    403xx         KY   \n",
       "\n",
       "         dti  delinq_2yrs earliest_cr_line  inq_last_6mths  open_acc  pub_rec  \\\n",
       "35210  15.91            0           Nov-94               4        16        0   \n",
       "13138  14.00            1           May-96               2        11        0   \n",
       "31048   2.88            0           Aug-04               0         2        0   \n",
       "\n",
       "       revol_bal revol_util  total_acc  out_prncp  out_prncp_inv  \\\n",
       "35210      12870     12.10%         52        0.0            0.0   \n",
       "13138       8515     92.60%         19        0.0            0.0   \n",
       "31048       2725     90.80%          3        0.0            0.0   \n",
       "\n",
       "        total_pymnt  total_pymnt_inv  total_rec_prncp  total_rec_int  \\\n",
       "35210  23856.433820         23435.77          20000.0        3856.43   \n",
       "13138  31148.334800         31148.33          24000.0        7148.33   \n",
       "31048   8149.811174          8149.81           6500.0        1649.81   \n",
       "\n",
       "       total_rec_late_fee  recoveries  collection_recovery_fee last_pymnt_d  \\\n",
       "35210                 0.0         0.0                      0.0       Sep-12   \n",
       "13138                 0.0         0.0                      0.0       Dec-12   \n",
       "31048                 0.0         0.0                      0.0       Apr-13   \n",
       "\n",
       "       last_pymnt_amnt last_credit_pull_d  pub_rec_bankruptcies  \n",
       "35210           724.00             Sep-12                   0.0  \n",
       "13138         20360.09             May-16                   0.0  \n",
       "31048           231.61             May-16                   0.0  "
      ]
     },
     "execution_count": 11,
     "metadata": {},
     "output_type": "execute_result"
    }
   ],
   "source": [
    "column_names = data_df.columns[data_df.nunique() > 1]\n",
    "data_df = data_df[column_names]\n",
    "data_df.sample(3)"
   ]
  },
  {
   "cell_type": "code",
   "execution_count": 12,
   "metadata": {},
   "outputs": [
    {
     "name": "stdout",
     "output_type": "stream",
     "text": [
      "<class 'pandas.core.frame.DataFrame'>\n",
      "RangeIndex: 39717 entries, 0 to 39716\n",
      "Data columns (total 45 columns):\n",
      " #   Column                   Non-Null Count  Dtype  \n",
      "---  ------                   --------------  -----  \n",
      " 0   id                       39717 non-null  int64  \n",
      " 1   member_id                39717 non-null  int64  \n",
      " 2   loan_amnt                39717 non-null  int64  \n",
      " 3   funded_amnt              39717 non-null  int64  \n",
      " 4   funded_amnt_inv          39717 non-null  float64\n",
      " 5   term                     39717 non-null  object \n",
      " 6   int_rate                 39717 non-null  object \n",
      " 7   installment              39717 non-null  float64\n",
      " 8   grade                    39717 non-null  object \n",
      " 9   sub_grade                39717 non-null  object \n",
      " 10  emp_title                37258 non-null  object \n",
      " 11  emp_length               38642 non-null  object \n",
      " 12  home_ownership           39717 non-null  object \n",
      " 13  annual_inc               39717 non-null  float64\n",
      " 14  verification_status      39717 non-null  object \n",
      " 15  issue_d                  39717 non-null  object \n",
      " 16  loan_status              39717 non-null  object \n",
      " 17  url                      39717 non-null  object \n",
      " 18  desc                     26777 non-null  object \n",
      " 19  purpose                  39717 non-null  object \n",
      " 20  title                    39706 non-null  object \n",
      " 21  zip_code                 39717 non-null  object \n",
      " 22  addr_state               39717 non-null  object \n",
      " 23  dti                      39717 non-null  float64\n",
      " 24  delinq_2yrs              39717 non-null  int64  \n",
      " 25  earliest_cr_line         39717 non-null  object \n",
      " 26  inq_last_6mths           39717 non-null  int64  \n",
      " 27  open_acc                 39717 non-null  int64  \n",
      " 28  pub_rec                  39717 non-null  int64  \n",
      " 29  revol_bal                39717 non-null  int64  \n",
      " 30  revol_util               39667 non-null  object \n",
      " 31  total_acc                39717 non-null  int64  \n",
      " 32  out_prncp                39717 non-null  float64\n",
      " 33  out_prncp_inv            39717 non-null  float64\n",
      " 34  total_pymnt              39717 non-null  float64\n",
      " 35  total_pymnt_inv          39717 non-null  float64\n",
      " 36  total_rec_prncp          39717 non-null  float64\n",
      " 37  total_rec_int            39717 non-null  float64\n",
      " 38  total_rec_late_fee       39717 non-null  float64\n",
      " 39  recoveries               39717 non-null  float64\n",
      " 40  collection_recovery_fee  39717 non-null  float64\n",
      " 41  last_pymnt_d             39646 non-null  object \n",
      " 42  last_pymnt_amnt          39717 non-null  float64\n",
      " 43  last_credit_pull_d       39715 non-null  object \n",
      " 44  pub_rec_bankruptcies     39020 non-null  float64\n",
      "dtypes: float64(15), int64(10), object(20)\n",
      "memory usage: 13.6+ MB\n"
     ]
    }
   ],
   "source": [
    "data_df.info()"
   ]
  },
  {
   "cell_type": "code",
   "execution_count": 13,
   "metadata": {},
   "outputs": [],
   "source": [
    "def get_earliest_yr(x):\n",
    "    x = int(x.split(\"-\")[1])\n",
    "    if 0 <= x <= 11:\n",
    "        return str(2000 + x)\n",
    "    return str(1900 + x)"
   ]
  },
  {
   "cell_type": "code",
   "execution_count": null,
   "metadata": {},
   "outputs": [],
   "source": []
  },
  {
   "cell_type": "code",
   "execution_count": null,
   "metadata": {},
   "outputs": [],
   "source": []
  },
  {
   "cell_type": "code",
   "execution_count": 14,
   "metadata": {},
   "outputs": [],
   "source": [
    "data_df['term'] = data_df.term.apply(lambda x: int(x.strip().split(' ')[0]))\n",
    "data_df['int_rate'] = data_df.int_rate.apply(lambda x: float(x.strip().strip('%')))"
   ]
  },
  {
   "cell_type": "code",
   "execution_count": 15,
   "metadata": {},
   "outputs": [],
   "source": [
    "data_df['issue_d_month'] = data_df.issue_d.apply(lambda x: x.split('-')[0])\n",
    "data_df['issue_d_year'] = data_df.issue_d.apply(lambda x: \"20\" + x.split('-')[1])\n",
    "data_df = data_df.drop(['issue_d'], axis=1)"
   ]
  },
  {
   "cell_type": "code",
   "execution_count": 16,
   "metadata": {},
   "outputs": [],
   "source": [
    "data_df['earliest_cr_line_month'] = data_df.earliest_cr_line.apply(lambda x: x.split('-')[0])\n",
    "data_df['earliest_cr_line_year'] = data_df.earliest_cr_line.apply(get_earliest_yr)\n",
    "data_df = data_df.drop(['earliest_cr_line'], axis=1)"
   ]
  },
  {
   "cell_type": "code",
   "execution_count": null,
   "metadata": {},
   "outputs": [],
   "source": []
  },
  {
   "cell_type": "code",
   "execution_count": null,
   "metadata": {},
   "outputs": [],
   "source": []
  },
  {
   "cell_type": "code",
   "execution_count": 17,
   "metadata": {},
   "outputs": [
    {
     "name": "stdout",
     "output_type": "stream",
     "text": [
      "<class 'pandas.core.frame.DataFrame'>\n",
      "RangeIndex: 39717 entries, 0 to 39716\n",
      "Data columns (total 47 columns):\n",
      " #   Column                   Non-Null Count  Dtype  \n",
      "---  ------                   --------------  -----  \n",
      " 0   id                       39717 non-null  int64  \n",
      " 1   member_id                39717 non-null  int64  \n",
      " 2   loan_amnt                39717 non-null  int64  \n",
      " 3   funded_amnt              39717 non-null  int64  \n",
      " 4   funded_amnt_inv          39717 non-null  float64\n",
      " 5   term                     39717 non-null  int64  \n",
      " 6   int_rate                 39717 non-null  float64\n",
      " 7   installment              39717 non-null  float64\n",
      " 8   grade                    39717 non-null  object \n",
      " 9   sub_grade                39717 non-null  object \n",
      " 10  emp_title                37258 non-null  object \n",
      " 11  emp_length               38642 non-null  object \n",
      " 12  home_ownership           39717 non-null  object \n",
      " 13  annual_inc               39717 non-null  float64\n",
      " 14  verification_status      39717 non-null  object \n",
      " 15  loan_status              39717 non-null  object \n",
      " 16  url                      39717 non-null  object \n",
      " 17  desc                     26777 non-null  object \n",
      " 18  purpose                  39717 non-null  object \n",
      " 19  title                    39706 non-null  object \n",
      " 20  zip_code                 39717 non-null  object \n",
      " 21  addr_state               39717 non-null  object \n",
      " 22  dti                      39717 non-null  float64\n",
      " 23  delinq_2yrs              39717 non-null  int64  \n",
      " 24  inq_last_6mths           39717 non-null  int64  \n",
      " 25  open_acc                 39717 non-null  int64  \n",
      " 26  pub_rec                  39717 non-null  int64  \n",
      " 27  revol_bal                39717 non-null  int64  \n",
      " 28  revol_util               39667 non-null  object \n",
      " 29  total_acc                39717 non-null  int64  \n",
      " 30  out_prncp                39717 non-null  float64\n",
      " 31  out_prncp_inv            39717 non-null  float64\n",
      " 32  total_pymnt              39717 non-null  float64\n",
      " 33  total_pymnt_inv          39717 non-null  float64\n",
      " 34  total_rec_prncp          39717 non-null  float64\n",
      " 35  total_rec_int            39717 non-null  float64\n",
      " 36  total_rec_late_fee       39717 non-null  float64\n",
      " 37  recoveries               39717 non-null  float64\n",
      " 38  collection_recovery_fee  39717 non-null  float64\n",
      " 39  last_pymnt_d             39646 non-null  object \n",
      " 40  last_pymnt_amnt          39717 non-null  float64\n",
      " 41  last_credit_pull_d       39715 non-null  object \n",
      " 42  pub_rec_bankruptcies     39020 non-null  float64\n",
      " 43  issue_d_month            39717 non-null  object \n",
      " 44  issue_d_year             39717 non-null  object \n",
      " 45  earliest_cr_line_month   39717 non-null  object \n",
      " 46  earliest_cr_line_year    39717 non-null  object \n",
      "dtypes: float64(16), int64(11), object(20)\n",
      "memory usage: 14.2+ MB\n"
     ]
    }
   ],
   "source": [
    "data_df.info()"
   ]
  },
  {
   "cell_type": "markdown",
   "metadata": {},
   "source": [
    "## Step 2 Univariate Analysis"
   ]
  },
  {
   "cell_type": "markdown",
   "metadata": {},
   "source": [
    "# Earliest Credit Line Year\n",
    "\n",
    "The year the borrower's earliest reported credit line was opened\n"
   ]
  },
  {
   "cell_type": "code",
   "execution_count": 18,
   "metadata": {
    "scrolled": true
   },
   "outputs": [
    {
     "data": {
      "image/png": "[encoded data removed]",
      "text/plain": [
       "<Figure size 432x288 with 1 Axes>"
      ]
     },
     "metadata": {},
     "output_type": "display_data"
    }
   ],
   "source": [
    "data_df.earliest_cr_line_year.value_counts().plot()\n",
    "plt.title('Earliest Credit Line Year')\n",
    "plt.show()"
   ]
  },
  {
   "cell_type": "markdown",
   "metadata": {},
   "source": [
    "From this description we can understand that the maximum borrowers have their credit line starting in the year 2000"
   ]
  },
  {
   "cell_type": "markdown",
   "metadata": {},
   "source": [
    "# Earliest Credit Line Month \n",
    "\n",
    "The month the borrower's earliest reported credit line was opened\n"
   ]
  },
  {
   "cell_type": "code",
   "execution_count": 19,
   "metadata": {},
   "outputs": [
    {
     "data": {
      "text/plain": [
       "Oct    4076\n",
       "Dec    4067\n",
       "Nov    3930\n",
       "Sep    3593\n",
       "Jan    3429\n",
       "Aug    3305\n",
       "Jul    3062\n",
       "Jun    2935\n",
       "May    2903\n",
       "Feb    2881\n",
       "Mar    2794\n",
       "Apr    2742\n",
       "Name: earliest_cr_line_month, dtype: int64"
      ]
     },
     "execution_count": 19,
     "metadata": {},
     "output_type": "execute_result"
    }
   ],
   "source": [
    "data_df.earliest_cr_line_month.value_counts()"
   ]
  },
  {
   "cell_type": "code",
   "execution_count": 20,
   "metadata": {},
   "outputs": [
    {
     "data": {
      "text/plain": [
       "Text(0.5, 1.0, 'Earliest Credit Line Month')"
      ]
     },
     "execution_count": 20,
     "metadata": {},
     "output_type": "execute_result"
    },
    {
     "data": {
      "image/png": "[encoded data removed]",
      "text/plain": [
       "<Figure size 432x288 with 1 Axes>"
      ]
     },
     "metadata": {},
     "output_type": "display_data"
    }
   ],
   "source": [
    "data_df.earliest_cr_line_month.value_counts().plot()\n",
    "plt.title('Earliest Credit Line Month')"
   ]
  },
  {
   "cell_type": "markdown",
   "metadata": {},
   "source": [
    "From this graph we can understand that most of the people have prefer to open their credit line in the month of October"
   ]
  },
  {
   "cell_type": "markdown",
   "metadata": {},
   "source": [
    "# Issued Year and month \n",
    "\n",
    "The month and the year in which loan was funded"
   ]
  },
  {
   "cell_type": "code",
   "execution_count": 21,
   "metadata": {
    "scrolled": true
   },
   "outputs": [
    {
     "data": {
      "text/plain": [
       "2011    21656\n",
       "2010    11532\n",
       "2009     4716\n",
       "2008     1562\n",
       "2007      251\n",
       "Name: issue_d_year, dtype: int64"
      ]
     },
     "execution_count": 21,
     "metadata": {},
     "output_type": "execute_result"
    }
   ],
   "source": [
    "data_df.issue_d_year.value_counts()"
   ]
  },
  {
   "cell_type": "code",
   "execution_count": null,
   "metadata": {},
   "outputs": [],
   "source": []
  },
  {
   "cell_type": "code",
   "execution_count": 22,
   "metadata": {},
   "outputs": [
    {
     "data": {
      "image/png": "[encoded data removed]",
      "text/plain": [
       "<Figure size 432x288 with 1 Axes>"
      ]
     },
     "metadata": {},
     "output_type": "display_data"
    }
   ],
   "source": [
    "plt.hist(data_df.issue_d_year)\n",
    "plt.title('Issued Year')\n",
    "plt.show()"
   ]
  },
  {
   "cell_type": "markdown",
   "metadata": {},
   "source": [
    "Most of the loans were issued in 2011"
   ]
  },
  {
   "cell_type": "code",
   "execution_count": 23,
   "metadata": {},
   "outputs": [
    {
     "data": {
      "text/plain": [
       "Dec    4433\n",
       "Nov    4167\n",
       "Oct    3934\n",
       "Sep    3648\n",
       "Aug    3518\n",
       "Jul    3476\n",
       "Jun    3279\n",
       "May    2999\n",
       "Apr    2834\n",
       "Mar    2692\n",
       "Jan    2379\n",
       "Feb    2358\n",
       "Name: issue_d_month, dtype: int64"
      ]
     },
     "execution_count": 23,
     "metadata": {},
     "output_type": "execute_result"
    }
   ],
   "source": [
    "data_df.issue_d_month.value_counts()"
   ]
  },
  {
   "cell_type": "code",
   "execution_count": 24,
   "metadata": {},
   "outputs": [
    {
     "data": {
      "image/png": "[encoded data removed]",
      "text/plain": [
       "<Figure size 432x288 with 1 Axes>"
      ]
     },
     "metadata": {},
     "output_type": "display_data"
    }
   ],
   "source": [
    "data_df.issue_d_month.value_counts().plot()\n",
    "plt.title('Issued Month')\n",
    "plt.show()"
   ]
  },
  {
   "cell_type": "markdown",
   "metadata": {},
   "source": [
    "Most of the loans were issued in the month of December to the borrowers"
   ]
  },
  {
   "cell_type": "markdown",
   "metadata": {},
   "source": [
    "# Public Record Bankruptcies\n",
    "\n",
    "Number of public record bankruptcies"
   ]
  },
  {
   "cell_type": "code",
   "execution_count": 25,
   "metadata": {},
   "outputs": [
    {
     "data": {
      "text/plain": [
       "0.0    37339\n",
       "1.0     1674\n",
       "2.0        7\n",
       "Name: pub_rec_bankruptcies, dtype: int64"
      ]
     },
     "execution_count": 25,
     "metadata": {},
     "output_type": "execute_result"
    }
   ],
   "source": [
    "data_df.pub_rec_bankruptcies.value_counts()"
   ]
  },
  {
   "cell_type": "markdown",
   "metadata": {},
   "source": [
    "From this values only we can understand that there are very few borrowers who have declared bankruptcy and fewer who have declared bankruptcy twice"
   ]
  },
  {
   "cell_type": "markdown",
   "metadata": {},
   "source": [
    "# Last Credit Pulled date\n",
    "\n",
    "The most recent month LC pulled the credit for this loan"
   ]
  },
  {
   "cell_type": "code",
   "execution_count": 26,
   "metadata": {},
   "outputs": [
    {
     "data": {
      "text/plain": [
       "May-16    10308\n",
       "Apr-16     2547\n",
       "Mar-16     1123\n",
       "Feb-13      843\n",
       "Feb-16      736\n",
       "Jan-16      657\n",
       "Dec-15      647\n",
       "Mar-13      577\n",
       "Mar-14      564\n",
       "Dec-14      562\n",
       "Jul-14      555\n",
       "Sep-14      546\n",
       "Jul-15      535\n",
       "Feb-14      531\n",
       "Oct-14      529\n",
       "Nov-15      529\n",
       "Aug-14      522\n",
       "Jan-14      516\n",
       "Sep-15      512\n",
       "Oct-15      502\n",
       "Nov-14      497\n",
       "Apr-14      494\n",
       "Nov-13      473\n",
       "May-14      473\n",
       "Jun-14      466\n",
       "May-13      448\n",
       "Jan-15      440\n",
       "Apr-13      425\n",
       "May-15      423\n",
       "Dec-13      422\n",
       "Aug-15      422\n",
       "Oct-13      416\n",
       "Nov-12      404\n",
       "Jul-13      396\n",
       "Sep-12      391\n",
       "Sep-13      390\n",
       "Apr-15      388\n",
       "Aug-12      377\n",
       "Jun-15      375\n",
       "Dec-12      374\n",
       "Mar-15      371\n",
       "Aug-13      370\n",
       "Jun-13      370\n",
       "Feb-12      368\n",
       "Feb-15      358\n",
       "Mar-12      338\n",
       "Oct-12      332\n",
       "May-12      324\n",
       "Jun-12      308\n",
       "Apr-12      308\n",
       "Jul-12      297\n",
       "Jan-12      258\n",
       "Mar-11      257\n",
       "Aug-11      254\n",
       "Dec-11      245\n",
       "Nov-11      201\n",
       "May-11      193\n",
       "Jun-11      165\n",
       "Sep-11      157\n",
       "Jul-11      156\n",
       "Feb-11      151\n",
       "Oct-11      148\n",
       "Apr-11      135\n",
       "Jan-11      129\n",
       "Dec-10      111\n",
       "Jul-10      107\n",
       "Sep-10       97\n",
       "Nov-10       93\n",
       "Oct-10       89\n",
       "Feb-10       69\n",
       "Apr-10       60\n",
       "Aug-10       51\n",
       "May-10       50\n",
       "Mar-10       48\n",
       "Dec-09       46\n",
       "Jun-10       46\n",
       "Jan-13       34\n",
       "Oct-09       33\n",
       "Nov-09       28\n",
       "Jan-10       27\n",
       "Aug-09       19\n",
       "Feb-09       16\n",
       "Apr-09       15\n",
       "Aug-07       15\n",
       "Jan-09       14\n",
       "Jun-09       13\n",
       "Jul-09       13\n",
       "Jun-07       12\n",
       "Sep-09       11\n",
       "Mar-09       10\n",
       "May-09       10\n",
       "Aug-08        9\n",
       "Oct-08        9\n",
       "Sep-08        5\n",
       "Dec-08        5\n",
       "Mar-08        4\n",
       "Oct-07        3\n",
       "Feb-08        3\n",
       "Jan-08        3\n",
       "Sep-07        2\n",
       "Dec-07        2\n",
       "Jun-08        1\n",
       "Jul-08        1\n",
       "Jul-07        1\n",
       "May-07        1\n",
       "May-08        1\n",
       "Name: last_credit_pull_d, dtype: int64"
      ]
     },
     "execution_count": 26,
     "metadata": {},
     "output_type": "execute_result"
    }
   ],
   "source": [
    "data_df.last_credit_pull_d.value_counts()\n"
   ]
  },
  {
   "cell_type": "code",
   "execution_count": null,
   "metadata": {},
   "outputs": [],
   "source": []
  },
  {
   "cell_type": "markdown",
   "metadata": {},
   "source": [
    "# Last Payment Amount"
   ]
  },
  {
   "cell_type": "code",
   "execution_count": 27,
   "metadata": {},
   "outputs": [
    {
     "data": {
      "text/plain": [
       "count    39717.000000\n",
       "mean      2678.826162\n",
       "std       4447.136012\n",
       "min          0.000000\n",
       "25%        218.680000\n",
       "50%        546.140000\n",
       "75%       3293.160000\n",
       "max      36115.200000\n",
       "Name: last_pymnt_amnt, dtype: float64"
      ]
     },
     "execution_count": 27,
     "metadata": {},
     "output_type": "execute_result"
    }
   ],
   "source": [
    "data_df.last_pymnt_amnt.describe()"
   ]
  },
  {
   "cell_type": "code",
   "execution_count": 28,
   "metadata": {},
   "outputs": [
    {
     "data": {
      "image/png": "[encoded data removed]",
      "text/plain": [
       "<Figure size 432x288 with 1 Axes>"
      ]
     },
     "metadata": {},
     "output_type": "display_data"
    }
   ],
   "source": [
    "plt.hist(data_df.last_pymnt_amnt)\n",
    "plt.title(\"Last Payment Amount\")\n",
    "plt.show()"
   ]
  },
  {
   "cell_type": "markdown",
   "metadata": {},
   "source": [
    "This graph  shows us that most of the borrower's last transaction was b/w 0-5000"
   ]
  },
  {
   "cell_type": "markdown",
   "metadata": {},
   "source": [
    "# Last Payment date "
   ]
  },
  {
   "cell_type": "code",
   "execution_count": 29,
   "metadata": {},
   "outputs": [
    {
     "data": {
      "text/plain": [
       "71"
      ]
     },
     "execution_count": 29,
     "metadata": {},
     "output_type": "execute_result"
    }
   ],
   "source": [
    "data_df.last_pymnt_d.isna().sum()"
   ]
  },
  {
   "cell_type": "markdown",
   "metadata": {},
   "source": [
    "# Collection Recovery Fee"
   ]
  },
  {
   "cell_type": "code",
   "execution_count": 30,
   "metadata": {},
   "outputs": [
    {
     "data": {
      "image/png": "[encoded data removed]",
      "text/plain": [
       "<Figure size 432x288 with 1 Axes>"
      ]
     },
     "metadata": {},
     "output_type": "display_data"
    }
   ],
   "source": [
    "data_df.collection_recovery_fee.value_counts().plot()\n",
    "plt.title('Collection Recovery fee')\n",
    "plt.show()"
   ]
  },
  {
   "cell_type": "markdown",
   "metadata": {},
   "source": [
    "From this chart we can understand that the collection recovery fee is 0 for most of the people and for the rest of them it's even less than 5000"
   ]
  },
  {
   "cell_type": "markdown",
   "metadata": {},
   "source": [
    "# Recoveries"
   ]
  },
  {
   "cell_type": "code",
   "execution_count": 31,
   "metadata": {},
   "outputs": [
    {
     "data": {
      "text/plain": [
       "0.00      35499\n",
       "10.40         4\n",
       "11.29         4\n",
       "19.20         3\n",
       "13.59         3\n",
       "          ...  \n",
       "240.15        1\n",
       "385.70        1\n",
       "995.74        1\n",
       "176.49        1\n",
       "269.31        1\n",
       "Name: recoveries, Length: 4040, dtype: int64"
      ]
     },
     "execution_count": 31,
     "metadata": {},
     "output_type": "execute_result"
    }
   ],
   "source": [
    "data_df.recoveries.value_counts()"
   ]
  },
  {
   "cell_type": "code",
   "execution_count": 32,
   "metadata": {},
   "outputs": [
    {
     "data": {
      "text/plain": [
       "count    39717.000000\n",
       "mean        95.221624\n",
       "std        688.744771\n",
       "min          0.000000\n",
       "25%          0.000000\n",
       "50%          0.000000\n",
       "75%          0.000000\n",
       "max      29623.350000\n",
       "Name: recoveries, dtype: float64"
      ]
     },
     "execution_count": 32,
     "metadata": {},
     "output_type": "execute_result"
    }
   ],
   "source": [
    "data_df.recoveries.describe()"
   ]
  },
  {
   "cell_type": "markdown",
   "metadata": {},
   "source": [
    "As we can this column has same observation most of the rows have 0 recovery and the rest have a minimum amunt"
   ]
  },
  {
   "cell_type": "markdown",
   "metadata": {},
   "source": [
    "# Total Recovered Late Fee"
   ]
  },
  {
   "cell_type": "code",
   "execution_count": 33,
   "metadata": {},
   "outputs": [
    {
     "data": {
      "text/plain": [
       "0.000000     37671\n",
       "15.000000      255\n",
       "15.000000       58\n",
       "30.000000       55\n",
       "15.000000       47\n",
       "             ...  \n",
       "44.840000        1\n",
       "16.010000        1\n",
       "29.914662        1\n",
       "23.820000        1\n",
       "47.307614        1\n",
       "Name: total_rec_late_fee, Length: 1356, dtype: int64"
      ]
     },
     "execution_count": 33,
     "metadata": {},
     "output_type": "execute_result"
    }
   ],
   "source": [
    "data_df.total_rec_late_fee.value_counts()\n"
   ]
  },
  {
   "cell_type": "code",
   "execution_count": 34,
   "metadata": {},
   "outputs": [
    {
     "data": {
      "text/plain": [
       "count    39717.000000\n",
       "mean         1.363015\n",
       "std          7.289979\n",
       "min          0.000000\n",
       "25%          0.000000\n",
       "50%          0.000000\n",
       "75%          0.000000\n",
       "max        180.200000\n",
       "Name: total_rec_late_fee, dtype: float64"
      ]
     },
     "execution_count": 34,
     "metadata": {},
     "output_type": "execute_result"
    }
   ],
   "source": [
    "data_df.total_rec_late_fee.describe()"
   ]
  },
  {
   "cell_type": "markdown",
   "metadata": {},
   "source": [
    "Here also we can that the column doesn't have any significant data"
   ]
  },
  {
   "cell_type": "markdown",
   "metadata": {},
   "source": [
    "# Total Recovery Interest"
   ]
  },
  {
   "cell_type": "code",
   "execution_count": 35,
   "metadata": {},
   "outputs": [
    {
     "data": {
      "text/plain": [
       "count    39717.000000\n",
       "mean      2263.663172\n",
       "std       2608.111964\n",
       "min          0.000000\n",
       "25%        662.180000\n",
       "50%       1348.910000\n",
       "75%       2833.400000\n",
       "max      23563.680000\n",
       "Name: total_rec_int, dtype: float64"
      ]
     },
     "execution_count": 35,
     "metadata": {},
     "output_type": "execute_result"
    }
   ],
   "source": [
    "data_df.total_rec_int.describe()"
   ]
  },
  {
   "cell_type": "code",
   "execution_count": 36,
   "metadata": {},
   "outputs": [
    {
     "data": {
      "image/png": "[encoded data removed]",
      "text/plain": [
       "<Figure size 432x288 with 1 Axes>"
      ]
     },
     "metadata": {},
     "output_type": "display_data"
    }
   ],
   "source": [
    "data_df.total_rec_int.value_counts().plot()\n",
    "plt.title('Total Recovery Interest')\n",
    "plt.show()"
   ]
  },
  {
   "cell_type": "markdown",
   "metadata": {},
   "source": [
    "# Total Recovery Principle "
   ]
  },
  {
   "cell_type": "code",
   "execution_count": 37,
   "metadata": {},
   "outputs": [
    {
     "data": {
      "text/plain": [
       "count    39717.000000\n",
       "mean      9793.348813\n",
       "std       7065.522127\n",
       "min          0.000000\n",
       "25%       4600.000000\n",
       "50%       8000.000000\n",
       "75%      13653.260000\n",
       "max      35000.020000\n",
       "Name: total_rec_prncp, dtype: float64"
      ]
     },
     "execution_count": 37,
     "metadata": {},
     "output_type": "execute_result"
    }
   ],
   "source": [
    "data_df.total_rec_prncp.describe()"
   ]
  },
  {
   "cell_type": "code",
   "execution_count": 38,
   "metadata": {},
   "outputs": [
    {
     "data": {
      "text/plain": [
       "10000.00    2293\n",
       "12000.00    1805\n",
       "5000.00     1702\n",
       "6000.00     1637\n",
       "15000.00    1400\n",
       "            ... \n",
       "664.25         1\n",
       "12127.06       1\n",
       "2957.46        1\n",
       "19000.01       1\n",
       "1446.22        1\n",
       "Name: total_rec_prncp, Length: 7976, dtype: int64"
      ]
     },
     "execution_count": 38,
     "metadata": {},
     "output_type": "execute_result"
    }
   ],
   "source": [
    "data_df['total_rec_prncp'].value_counts()"
   ]
  },
  {
   "cell_type": "markdown",
   "metadata": {},
   "source": []
  },
  {
   "cell_type": "code",
   "execution_count": 39,
   "metadata": {},
   "outputs": [
    {
     "data": {
      "image/png": "[encoded data removed]",
      "text/plain": [
       "<Figure size 432x288 with 1 Axes>"
      ]
     },
     "metadata": {},
     "output_type": "display_data"
    }
   ],
   "source": [
    "plt.hist(data_df['total_rec_prncp'])\n",
    "plt.title('Total recovery principle')\n",
    "plt.show()\n",
    "#data1['total_rec_late_fee'].value_counts()"
   ]
  },
  {
   "cell_type": "markdown",
   "metadata": {},
   "source": [
    "# Total Payment Funded by Investors\n",
    "\n",
    "Total payment received for the amount invested by the investors"
   ]
  },
  {
   "cell_type": "code",
   "execution_count": 40,
   "metadata": {},
   "outputs": [
    {
     "data": {
      "text/plain": [
       "count    39717.000000\n",
       "mean     11567.149118\n",
       "std       8942.672613\n",
       "min          0.000000\n",
       "25%       5112.310000\n",
       "50%       9287.150000\n",
       "75%      15798.810000\n",
       "max      58563.680000\n",
       "Name: total_pymnt_inv, dtype: float64"
      ]
     },
     "execution_count": 40,
     "metadata": {},
     "output_type": "execute_result"
    }
   ],
   "source": [
    "data_df.total_pymnt_inv.describe()"
   ]
  },
  {
   "cell_type": "code",
   "execution_count": 41,
   "metadata": {},
   "outputs": [
    {
     "data": {
      "image/png": "[encoded data removed]",
      "text/plain": [
       "<Figure size 432x288 with 1 Axes>"
      ]
     },
     "metadata": {},
     "output_type": "display_data"
    }
   ],
   "source": [
    "#plt.boxplot(data_df.total_pymnt_inv)\n",
    "plt.hist(data_df.total_pymnt_inv)\n",
    "plt.title('Total Payment recieved by investors')\n",
    "plt.show()"
   ]
  },
  {
   "cell_type": "markdown",
   "metadata": {},
   "source": [
    "From this we can understand that the maximum payment the investors got for their investment was under 10000 USD"
   ]
  },
  {
   "cell_type": "markdown",
   "metadata": {},
   "source": [
    "# Total Payment "
   ]
  },
  {
   "cell_type": "code",
   "execution_count": 42,
   "metadata": {},
   "outputs": [
    {
     "data": {
      "text/plain": [
       "11196.569430    26\n",
       "0.000000        16\n",
       "11784.232230    16\n",
       "10956.775960    16\n",
       "13148.137860    15\n",
       "                ..\n",
       "5627.546774      1\n",
       "32897.190000     1\n",
       "31624.045580     1\n",
       "2885.006447      1\n",
       "5933.760000      1\n",
       "Name: total_pymnt, Length: 37850, dtype: int64"
      ]
     },
     "execution_count": 42,
     "metadata": {},
     "output_type": "execute_result"
    }
   ],
   "source": [
    "data_df['total_pymnt'].value_counts()"
   ]
  },
  {
   "cell_type": "code",
   "execution_count": 43,
   "metadata": {},
   "outputs": [
    {
     "data": {
      "text/plain": [
       "count    39717.000000\n",
       "mean     12153.596544\n",
       "std       9042.040766\n",
       "min          0.000000\n",
       "25%       5576.930000\n",
       "50%       9899.640319\n",
       "75%      16534.433040\n",
       "max      58563.679930\n",
       "Name: total_pymnt, dtype: float64"
      ]
     },
     "execution_count": 43,
     "metadata": {},
     "output_type": "execute_result"
    }
   ],
   "source": [
    "data_df.total_pymnt.describe()"
   ]
  },
  {
   "cell_type": "code",
   "execution_count": 44,
   "metadata": {},
   "outputs": [
    {
     "data": {
      "image/png": "[encoded data removed]",
      "text/plain": [
       "<Figure size 432x288 with 1 Axes>"
      ]
     },
     "metadata": {},
     "output_type": "display_data"
    }
   ],
   "source": [
    "sns.boxplot(data_df['total_pymnt'])\n",
    "plt.title('Total Payment Received')\n",
    "plt.show()\n"
   ]
  },
  {
   "cell_type": "code",
   "execution_count": 45,
   "metadata": {},
   "outputs": [
    {
     "data": {
      "text/plain": [
       "9899.640319"
      ]
     },
     "execution_count": 45,
     "metadata": {},
     "output_type": "execute_result"
    }
   ],
   "source": [
    "data_df.total_pymnt.median()"
   ]
  },
  {
   "cell_type": "markdown",
   "metadata": {},
   "source": [
    "From this we can understand that the median amount of the total payment received is 9899 USD"
   ]
  },
  {
   "cell_type": "markdown",
   "metadata": {},
   "source": [
    "# Out Principal Invested by Investors\n",
    "\n",
    "Remaining outstanding principal for total amount funded by investors"
   ]
  },
  {
   "cell_type": "code",
   "execution_count": 46,
   "metadata": {},
   "outputs": [
    {
     "data": {
      "text/plain": [
       "count    39717.000000\n",
       "mean        50.989768\n",
       "std        373.824457\n",
       "min          0.000000\n",
       "25%          0.000000\n",
       "50%          0.000000\n",
       "75%          0.000000\n",
       "max       6307.370000\n",
       "Name: out_prncp_inv, dtype: float64"
      ]
     },
     "execution_count": 46,
     "metadata": {},
     "output_type": "execute_result"
    }
   ],
   "source": [
    "data_df.out_prncp_inv.describe()"
   ]
  },
  {
   "cell_type": "code",
   "execution_count": 47,
   "metadata": {},
   "outputs": [
    {
     "data": {
      "text/plain": [
       "0.00       38577\n",
       "827.13         2\n",
       "2277.11        2\n",
       "1972.60        2\n",
       "2963.24        2\n",
       "           ...  \n",
       "1001.31        1\n",
       "3373.62        1\n",
       "3505.27        1\n",
       "952.95         1\n",
       "40.65          1\n",
       "Name: out_prncp, Length: 1137, dtype: int64"
      ]
     },
     "execution_count": 47,
     "metadata": {},
     "output_type": "execute_result"
    }
   ],
   "source": [
    "data_df.out_prncp.value_counts()"
   ]
  },
  {
   "cell_type": "markdown",
   "metadata": {},
   "source": [
    "From the above data we can understand that most of the investors money has been paid"
   ]
  },
  {
   "cell_type": "markdown",
   "metadata": {},
   "source": [
    "# Out Principal\n",
    "\n",
    "Remaining outstanding principal for total amount funded\n"
   ]
  },
  {
   "cell_type": "code",
   "execution_count": 48,
   "metadata": {},
   "outputs": [
    {
     "data": {
      "text/plain": [
       "count    39717.000000\n",
       "mean        51.227887\n",
       "std        375.172839\n",
       "min          0.000000\n",
       "25%          0.000000\n",
       "50%          0.000000\n",
       "75%          0.000000\n",
       "max       6311.470000\n",
       "Name: out_prncp, dtype: float64"
      ]
     },
     "execution_count": 48,
     "metadata": {},
     "output_type": "execute_result"
    }
   ],
   "source": [
    "data_df.out_prncp.describe()"
   ]
  },
  {
   "cell_type": "code",
   "execution_count": 49,
   "metadata": {},
   "outputs": [
    {
     "data": {
      "text/plain": [
       "0.00       38577\n",
       "827.13         2\n",
       "2277.11        2\n",
       "1972.60        2\n",
       "2963.24        2\n",
       "           ...  \n",
       "1001.31        1\n",
       "3373.62        1\n",
       "3505.27        1\n",
       "952.95         1\n",
       "40.65          1\n",
       "Name: out_prncp, Length: 1137, dtype: int64"
      ]
     },
     "execution_count": 49,
     "metadata": {},
     "output_type": "execute_result"
    }
   ],
   "source": [
    "data_df.out_prncp.value_counts()"
   ]
  },
  {
   "cell_type": "markdown",
   "metadata": {},
   "source": [
    "From these two insights we can understand that most of the people have 0 outstanding principle to be paid"
   ]
  },
  {
   "attachments": {},
   "cell_type": "markdown",
   "metadata": {},
   "source": [
    "# Total Accounts\n",
    "\n",
    "The total number of credit lines currently in the borrower's credit file\n"
   ]
  },
  {
   "cell_type": "code",
   "execution_count": 50,
   "metadata": {},
   "outputs": [
    {
     "data": {
      "text/plain": [
       "16    1471\n",
       "15    1462\n",
       "17    1457\n",
       "14    1445\n",
       "20    1428\n",
       "18    1422\n",
       "21    1412\n",
       "13    1385\n",
       "19    1341\n",
       "12    1325\n",
       "22    1302\n",
       "11    1278\n",
       "24    1259\n",
       "23    1252\n",
       "10    1193\n",
       "25    1160\n",
       "27    1088\n",
       "9     1080\n",
       "26    1058\n",
       "8     1006\n",
       "28     971\n",
       "29     931\n",
       "30     870\n",
       "7      828\n",
       "32     794\n",
       "31     793\n",
       "6      683\n",
       "33     647\n",
       "34     632\n",
       "35     575\n",
       "5      552\n",
       "36     523\n",
       "37     487\n",
       "38     452\n",
       "39     440\n",
       "4      420\n",
       "40     322\n",
       "41     294\n",
       "42     285\n",
       "43     258\n",
       "44     224\n",
       "46     186\n",
       "45     184\n",
       "3      182\n",
       "47     169\n",
       "48     148\n",
       "49     127\n",
       "50     118\n",
       "52     101\n",
       "63      95\n",
       "53      86\n",
       "51      82\n",
       "54      70\n",
       "55      54\n",
       "56      48\n",
       "57      43\n",
       "61      42\n",
       "59      39\n",
       "62      38\n",
       "58      33\n",
       "60      28\n",
       "64       5\n",
       "66       4\n",
       "67       4\n",
       "2        4\n",
       "65       3\n",
       "76       2\n",
       "79       2\n",
       "75       2\n",
       "80       1\n",
       "81       1\n",
       "90       1\n",
       "87       1\n",
       "68       1\n",
       "74       1\n",
       "78       1\n",
       "77       1\n",
       "70       1\n",
       "71       1\n",
       "72       1\n",
       "73       1\n",
       "69       1\n",
       "Name: total_acc, dtype: int64"
      ]
     },
     "execution_count": 50,
     "metadata": {},
     "output_type": "execute_result"
    }
   ],
   "source": [
    "data_df.total_acc.value_counts()"
   ]
  },
  {
   "cell_type": "code",
   "execution_count": 51,
   "metadata": {},
   "outputs": [
    {
     "data": {
      "text/plain": [
       "count    39717.000000\n",
       "mean        22.088828\n",
       "std         11.401709\n",
       "min          2.000000\n",
       "25%         13.000000\n",
       "50%         20.000000\n",
       "75%         29.000000\n",
       "max         90.000000\n",
       "Name: total_acc, dtype: float64"
      ]
     },
     "execution_count": 51,
     "metadata": {},
     "output_type": "execute_result"
    }
   ],
   "source": [
    "data_df.total_acc.describe()"
   ]
  },
  {
   "cell_type": "code",
   "execution_count": 53,
   "metadata": {},
   "outputs": [
    {
     "data": {
      "image/png": "[encoded data removed]",
      "text/plain": [
       "<Figure size 432x288 with 1 Axes>"
      ]
     },
     "metadata": {},
     "output_type": "display_data"
    }
   ],
   "source": [
    "sns.boxplot(data_df.total_acc)\n",
    "plt.title('Total Number of Credit Lines ')\n",
    "plt.show()"
   ]
  },
  {
   "cell_type": "markdown",
   "metadata": {},
   "source": [
    "# Revolving Credit Utilization \n",
    "\n",
    "Revolving line utilization rate, or the amount of credit the borrower is using relative to all available revolving credit.\n"
   ]
  },
  {
   "cell_type": "code",
   "execution_count": 72,
   "metadata": {},
   "outputs": [],
   "source": [
    "data1 = data_df.revol_util"
   ]
  },
  {
   "cell_type": "code",
   "execution_count": 82,
   "metadata": {},
   "outputs": [],
   "source": [
    "arr=[]\n",
    "for i in data1:\n",
    "        if type(i)== str:\n",
    "            i= i.rstrip('%')\n",
    "            arr.append(i)"
   ]
  },
  {
   "cell_type": "code",
   "execution_count": 84,
   "metadata": {},
   "outputs": [],
   "source": [
    "for i in range(len(arr)):\n",
    "    arr[i] = float(arr[i])"
   ]
  },
  {
   "cell_type": "code",
   "execution_count": 92,
   "metadata": {},
   "outputs": [],
   "source": [
    "indi = data_df[data_df.revol_util.isna()].index.tolist()"
   ]
  },
  {
   "cell_type": "code",
   "execution_count": 93,
   "metadata": {},
   "outputs": [],
   "source": [
    "for j in range(len(indi)):\n",
    "        arr.insert(indi[j],0)\n"
   ]
  },
  {
   "cell_type": "code",
   "execution_count": 95,
   "metadata": {},
   "outputs": [],
   "source": [
    "data_df.revol_util=arr"
   ]
  },
  {
   "cell_type": "code",
   "execution_count": 96,
   "metadata": {},
   "outputs": [
    {
     "data": {
      "text/plain": [
       "count    39717.000000\n",
       "mean        48.770677\n",
       "std         28.367689\n",
       "min          0.000000\n",
       "25%         25.300000\n",
       "50%         49.200000\n",
       "75%         72.300000\n",
       "max         99.900000\n",
       "Name: revol_util, dtype: float64"
      ]
     },
     "execution_count": 96,
     "metadata": {},
     "output_type": "execute_result"
    }
   ],
   "source": [
    "data_df.revol_util.describe()"
   ]
  },
  {
   "cell_type": "code",
   "execution_count": 97,
   "metadata": {},
   "outputs": [
    {
     "data": {
      "image/png": "[encoded data removed]",
      "text/plain": [
       "<Figure size 432x288 with 1 Axes>"
      ]
     },
     "metadata": {},
     "output_type": "display_data"
    }
   ],
   "source": [
    "plt.boxplot(data_df.revol_util)\n",
    "plt.title('Revolving Credit utilization')\n",
    "plt.show()"
   ]
  },
  {
   "cell_type": "markdown",
   "metadata": {},
   "source": [
    "From this we can understand the percentage of the revolving credit utilization done by the borrower"
   ]
  },
  {
   "attachments": {},
   "cell_type": "markdown",
   "metadata": {},
   "source": [
    "# Revolving balance\n",
    "\n",
    "Total credit revolving balance"
   ]
  },
  {
   "cell_type": "code",
   "execution_count": 98,
   "metadata": {},
   "outputs": [
    {
     "data": {
      "text/plain": [
       "count     39717.000000\n",
       "mean      13382.528086\n",
       "std       15885.016641\n",
       "min           0.000000\n",
       "25%        3703.000000\n",
       "50%        8850.000000\n",
       "75%       17058.000000\n",
       "max      149588.000000\n",
       "Name: revol_bal, dtype: float64"
      ]
     },
     "execution_count": 98,
     "metadata": {},
     "output_type": "execute_result"
    }
   ],
   "source": [
    "data_df.revol_bal.describe()"
   ]
  },
  {
   "cell_type": "code",
   "execution_count": 105,
   "metadata": {},
   "outputs": [
    {
     "data": {
      "image/png": "[encoded data removed]",
      "text/plain": [
       "<Figure size 432x288 with 1 Axes>"
      ]
     },
     "metadata": {},
     "output_type": "display_data"
    }
   ],
   "source": [
    "plt.boxplot(data_df.revol_bal)\n",
    "plt.title('Revolving Balance')\n",
    "plt.show()"
   ]
  },
  {
   "cell_type": "markdown",
   "metadata": {},
   "source": [
    "From the initial analysis we can understand that the median of the total revolving balance is less than 9000 USD"
   ]
  },
  {
   "cell_type": "markdown",
   "metadata": {},
   "source": [
    "# Public Records\n",
    "\n",
    "The number of derogatory public records"
   ]
  },
  {
   "cell_type": "code",
   "execution_count": 106,
   "metadata": {},
   "outputs": [
    {
     "data": {
      "text/plain": [
       "count    39717.000000\n",
       "mean         0.055065\n",
       "std          0.237200\n",
       "min          0.000000\n",
       "25%          0.000000\n",
       "50%          0.000000\n",
       "75%          0.000000\n",
       "max          4.000000\n",
       "Name: pub_rec, dtype: float64"
      ]
     },
     "execution_count": 106,
     "metadata": {},
     "output_type": "execute_result"
    }
   ],
   "source": [
    "data_df.pub_rec.describe()"
   ]
  },
  {
   "cell_type": "code",
   "execution_count": 107,
   "metadata": {},
   "outputs": [
    {
     "data": {
      "text/plain": [
       "0    37601\n",
       "1     2056\n",
       "2       51\n",
       "3        7\n",
       "4        2\n",
       "Name: pub_rec, dtype: int64"
      ]
     },
     "execution_count": 107,
     "metadata": {},
     "output_type": "execute_result"
    }
   ],
   "source": [
    "data_df.pub_rec.value_counts()\n",
    "\n"
   ]
  },
  {
   "cell_type": "markdown",
   "metadata": {},
   "source": [
    "These number show that the maximum of the borrowers don't have derogaotry public records"
   ]
  },
  {
   "attachments": {},
   "cell_type": "markdown",
   "metadata": {},
   "source": [
    "# Open Credit lines\n",
    "\n",
    "The number of open credit lines in the borrower's credit file."
   ]
  },
  {
   "cell_type": "code",
   "execution_count": 108,
   "metadata": {},
   "outputs": [
    {
     "data": {
      "text/plain": [
       "count    39717.000000\n",
       "mean         9.294408\n",
       "std          4.400282\n",
       "min          2.000000\n",
       "25%          6.000000\n",
       "50%          9.000000\n",
       "75%         12.000000\n",
       "max         44.000000\n",
       "Name: open_acc, dtype: float64"
      ]
     },
     "execution_count": 108,
     "metadata": {},
     "output_type": "execute_result"
    }
   ],
   "source": [
    "data_df.open_acc.describe()"
   ]
  },
  {
   "cell_type": "code",
   "execution_count": 109,
   "metadata": {},
   "outputs": [
    {
     "data": {
      "text/plain": [
       "{'whiskers': [<matplotlib.lines.Line2D at 0x228e090dd08>,\n",
       "  <matplotlib.lines.Line2D at 0x228e0922fc8>],\n",
       " 'caps': [<matplotlib.lines.Line2D at 0x228e0925a08>,\n",
       "  <matplotlib.lines.Line2D at 0x228e0925f48>],\n",
       " 'boxes': [<matplotlib.lines.Line2D at 0x228e0922848>],\n",
       " 'medians': [<matplotlib.lines.Line2D at 0x228e0925e88>],\n",
       " 'fliers': [<matplotlib.lines.Line2D at 0x228e092ba48>],\n",
       " 'means': []}"
      ]
     },
     "execution_count": 109,
     "metadata": {},
     "output_type": "execute_result"
    },
    {
     "data": {
      "image/png": "[encoded data removed]",
      "text/plain": [
       "<Figure size 432x288 with 1 Axes>"
      ]
     },
     "metadata": {},
     "output_type": "display_data"
    }
   ],
   "source": [
    "plt.boxplot(data_df.open_acc)"
   ]
  },
  {
   "cell_type": "markdown",
   "metadata": {},
   "source": [
    "A borrower has on an average 9 credit lines open on his/her name"
   ]
  },
  {
   "cell_type": "code",
   "execution_count": null,
   "metadata": {},
   "outputs": [],
   "source": []
  }
 ],
 "metadata": {
  "kernelspec": {
   "display_name": "Python 3 (ipykernel)",
   "language": "python",
   "name": "python3"
  },
  "language_info": {
   "codemirror_mode": {
    "name": "ipython",
    "version": 3
   },
   "file_extension": ".py",
   "mimetype": "text/x-python",
   "name": "python",
   "nbconvert_exporter": "python",
   "pygments_lexer": "ipython3",
   "version": "3.10.9"
  }
 },
 "nbformat": 4,
 "nbformat_minor": 4
}
