{
 "cells": [
  {
   "cell_type": "markdown",
   "id": "58a7d2fa-5e0f-4854-bb69-f17aa217a8fe",
   "metadata": {},
   "source": [
    "# Leanding Club Case Study"
   ]
  },
  {
   "cell_type": "markdown",
   "id": "bde501a1-5dc8-4dbe-811f-e4059fe2e908",
   "metadata": {},
   "source": [
    "Imports and basic set-up"
   ]
  },
  {
   "cell_type": "code",
   "execution_count": null,
   "id": "e44ddc5f-04a0-4e93-aa36-d720ce3b5fa6",
   "metadata": {
    "ExecuteTime": {
     "end_time": "2023-06-25T17:17:41.064774244Z",
     "start_time": "2023-06-25T17:17:41.057284449Z"
    }
   },
   "outputs": [],
   "source": [
    "import warnings\n",
    "from os import getcwd\n",
    "from os.path import join\n",
    "\n",
    "import matplotlib.pyplot as plt\n",
    "import numpy as np\n",
    "import pandas as pd\n",
    "import seaborn as sns\n",
    "\n",
    "%matplotlib inline"
   ]
  },
  {
   "cell_type": "code",
   "execution_count": null,
   "id": "beb18922-b572-43a6-8556-ac84be7a5002",
   "metadata": {},
   "outputs": [],
   "source": [
    "warnings.filterwarnings('ignore')\n",
    "pd.set_option('display.max_columns', None)\n",
    "pd.set_option('display.max_rows', None)\n",
    "pd.set_option('display.max_colwidth', None)\n",
    "sns.set_style('darkgrid')\n",
    "# plt.style.use('seaborn-v0_8-pastel')"
   ]
  },
  {
   "cell_type": "code",
   "execution_count": null,
   "id": "76993bb7-a4ba-4d56-939b-51ef65d779ec",
   "metadata": {},
   "outputs": [],
   "source": [
    "PRJ_DIR = getcwd()\n",
    "DATA_DIR = join(PRJ_DIR, 'data')"
   ]
  },
  {
   "cell_type": "markdown",
   "id": "4b33d1ca-0366-4e2e-bcc4-ccb984434991",
   "metadata": {},
   "source": [
    "## Step 0: Reading data"
   ]
  },
  {
   "cell_type": "code",
   "execution_count": null,
   "id": "4a176a1a-1626-4379-9a5a-1055406d1a4e",
   "metadata": {
    "scrolled": true
   },
   "outputs": [],
   "source": [
    "df = pd.read_csv(join(DATA_DIR, 'loan.csv'))\n",
    "df.head(10)"
   ]
  },
  {
   "cell_type": "code",
   "execution_count": null,
   "id": "6c98b1cf-ecb0-4e42-8b34-4245ab2b441e",
   "metadata": {},
   "outputs": [],
   "source": [
    "data_dict = pd.read_excel(join(DATA_DIR, 'Data_Dictionary.xlsx'))\n",
    "data_dict = data_dict.dropna()\n",
    "data_dict.sample(5)"
   ]
  },
  {
   "cell_type": "markdown",
   "id": "a853c8ee-0b99-47be-8533-899e058689fc",
   "metadata": {},
   "source": [
    "## Step 1: Cleaning"
   ]
  },
  {
   "cell_type": "markdown",
   "id": "9a5641c9-d785-4729-8205-cb320a458e34",
   "metadata": {},
   "source": [
    "### Choosing columns\n",
    "There are columns with `Nan` values."
   ]
  },
  {
   "cell_type": "code",
   "execution_count": null,
   "id": "0e1ffb6f-d20d-4f6f-ad97-539629252bbc",
   "metadata": {
    "scrolled": true
   },
   "outputs": [],
   "source": [
    "df.isna().sum()"
   ]
  },
  {
   "cell_type": "markdown",
   "id": "d3591a4f-1c42-4948-9241-4448c8f51c3b",
   "metadata": {},
   "source": [
    "As seen above, there are columns which do not contain any values. Some of the columns contain not but few values."
   ]
  },
  {
   "cell_type": "code",
   "execution_count": null,
   "id": "d26c3210-fb23-42f4-8dbc-d590ef9d3d59",
   "metadata": {},
   "outputs": [],
   "source": [
    "(df.isna().sum() >= 0.5 * df.shape[0]).sum()"
   ]
  },
  {
   "cell_type": "markdown",
   "id": "70918183-bb6e-44ca-aa5e-2ac049a76437",
   "metadata": {},
   "source": [
    "57 columns have more than 50% vlues as null. I am choosing not to use them and dropping them from analysis."
   ]
  },
  {
   "cell_type": "code",
   "execution_count": null,
   "id": "d43a5bf7-2564-47af-bb99-19431de61eb8",
   "metadata": {},
   "outputs": [],
   "source": [
    "column_names = df.columns[df.isna().sum() <= 0.50 * df.shape[0]].tolist()\n",
    "data_df = df[column_names]\n",
    "del df\n",
    "data_df.sample(3)"
   ]
  },
  {
   "cell_type": "markdown",
   "id": "ec39c5d8-116d-439f-b30c-0832aa4d1934",
   "metadata": {},
   "source": [
    "Another thing to check in the remaining column is the numbeor of unique values found in the each column"
   ]
  },
  {
   "cell_type": "code",
   "execution_count": null,
   "id": "2f1a74ab-154d-4b2e-be60-597f00d4ee17",
   "metadata": {
    "scrolled": true
   },
   "outputs": [],
   "source": [
    "data_df.nunique()"
   ]
  },
  {
   "cell_type": "markdown",
   "id": "09033d64-8ba7-41a8-9449-d12dc0d9fea7",
   "metadata": {},
   "source": [
    "There are columns which contain only 1 value for all the rows. We are choosing not to use them either as they are not adding any information wrt to our target variable"
   ]
  },
  {
   "cell_type": "code",
   "execution_count": null,
   "id": "1d6a603c-db1e-45fd-ba23-e0e6c9c6b3c7",
   "metadata": {},
   "outputs": [],
   "source": [
    "(data_df.nunique() <= 1).sum()"
   ]
  },
  {
   "cell_type": "markdown",
   "id": "d9ba1a58-7829-4b6d-bafc-f0db5a299bbd",
   "metadata": {},
   "source": [
    "9 columns will be additionally removed from our analysis."
   ]
  },
  {
   "cell_type": "code",
   "execution_count": null,
   "id": "e210357f-c7b7-4b88-bc94-e10712cd8f95",
   "metadata": {
    "scrolled": true
   },
   "outputs": [],
   "source": [
    "column_names = data_df.columns[data_df.nunique() > 1]\n",
    "data_df = data_df[column_names]\n",
    "data_df.sample(3)"
   ]
  },
  {
   "cell_type": "code",
   "execution_count": null,
   "id": "e0a1a503-b0c5-43b5-8e68-226d4e8e2c24",
   "metadata": {
    "scrolled": true
   },
   "outputs": [],
   "source": [
    "column_desc_df = pd.DataFrame([(i, data_df[i].isna().sum(),\n",
    "                                data_df[i].nunique(),\n",
    "                                data_dict[data_dict.LoanStatNew == i]['Description'].values[0])\n",
    "                               for i in data_df.columns],\n",
    "                              columns=['Column_Name', 'Num_NAs',\n",
    "                                       'Num_unique_vals', 'Description'])\n",
    "column_desc_df"
   ]
  },
  {
   "cell_type": "code",
   "execution_count": null,
   "id": "95f5ccb4-08ac-4b32-a591-bacf53b3a355",
   "metadata": {
    "scrolled": true
   },
   "outputs": [],
   "source": [
    "data_df.info()"
   ]
  },
  {
   "cell_type": "code",
   "execution_count": null,
   "id": "5502c47a-08d1-4b2e-8767-af5c666c4f99",
   "metadata": {},
   "outputs": [],
   "source": [
    "def get_earliest_yr(x):\n",
    "    x = int(x.split(\"-\")[1])\n",
    "    if 0 <= x <= 11:\n",
    "        return str(2000 + x)\n",
    "    return str(1900 + x)"
   ]
  },
  {
   "cell_type": "code",
   "execution_count": null,
   "id": "77e79581-f038-4460-969a-a22d8a542054",
   "metadata": {},
   "outputs": [],
   "source": [
    "data_df['term'] = data_df.term.apply(lambda x: int(x.strip().split(' ')[0]))\n",
    "data_df['int_rate'] = data_df.int_rate.apply(lambda x: float(x.strip().strip('%')))"
   ]
  },
  {
   "cell_type": "code",
   "execution_count": null,
   "id": "c111c831-9b96-4d45-aa94-3b126a551e7b",
   "metadata": {},
   "outputs": [],
   "source": [
    "data_df['issue_d_month'] = data_df.issue_d.apply(lambda x: x.split('-')[0])\n",
    "data_df['issue_d_year'] = data_df.issue_d.apply(lambda x: \"20\" + x.split('-')[1])"
   ]
  },
  {
   "cell_type": "code",
   "execution_count": null,
   "id": "1592bd2e-30c2-477c-ae6a-3e11c0cb9c94",
   "metadata": {},
   "outputs": [],
   "source": [
    "data_df['earliest_cr_line_month'] = data_df.earliest_cr_line.apply(lambda x: x.split('-')[0])\n",
    "data_df['earliest_cr_line_year'] = data_df.earliest_cr_line.apply(get_earliest_yr)"
   ]
  },
  {
   "cell_type": "code",
   "execution_count": null,
   "id": "45459658-e872-4158-b99c-84c15f0178a7",
   "metadata": {},
   "outputs": [],
   "source": [
    "data_df['emp_title'] = data_df.emp_title.apply(lambda x: x.strip().upper() if not isinstance(x, float) else x)"
   ]
  },
  {
   "cell_type": "code",
   "execution_count": null,
   "id": "daef2443-97ca-4ba7-a6e2-1d8892a3e5a1",
   "metadata": {},
   "outputs": [],
   "source": [
    "data_df['emp_length'] = data_df.emp_length.apply(lambda x: x if '<' not in str(x) else '<1 year')"
   ]
  },
  {
   "cell_type": "code",
   "execution_count": null,
   "id": "b1747d46-d579-4818-b2d5-fddae8564f81",
   "metadata": {},
   "outputs": [],
   "source": [
    "data_df = data_df.drop(['issue_d', 'earliest_cr_line', 'url'], axis=1)"
   ]
  },
  {
   "cell_type": "markdown",
   "id": "47c55f1b-b1a8-4b27-9130-1b2cd996919e",
   "metadata": {},
   "source": [
    "## Step 2: Uni-variate Analysis"
   ]
  },
  {
   "cell_type": "markdown",
   "id": "5d329191-8d36-4b41-9f88-9288c2c779bb",
   "metadata": {},
   "source": [
    "### Annual Income"
   ]
  },
  {
   "cell_type": "code",
   "execution_count": null,
   "id": "9b459a37-9ca7-488e-85c9-f018dc98d0d1",
   "metadata": {},
   "outputs": [],
   "source": [
    "data_df.annual_inc.describe()"
   ]
  },
  {
   "cell_type": "code",
   "execution_count": null,
   "id": "1c0f11f2-efeb-47b8-808c-8035d51d5692",
   "metadata": {},
   "outputs": [],
   "source": [
    "plt.figure(figsize=(3, 8))\n",
    "sns.boxplot(data_df.annual_inc)\n",
    "plt.title('Annual Income')\n",
    "plt.show()"
   ]
  },
  {
   "cell_type": "markdown",
   "id": "d05377c1-ec06-42fc-8485-55fb0a052dfb",
   "metadata": {},
   "source": [
    "Here we encounter some outliers. It is evident from the 5 point summary that 75% of the annual incomes are below USD 100K, but the highest income is USD 6M. Analyzing this columns while considering all the values would not yield correct results and therefore we choose drop rows where the annual income is greater than USD 150K."
   ]
  },
  {
   "cell_type": "code",
   "execution_count": null,
   "id": "ed26c3c3-7fdc-4401-9948-345ee7c7c38b",
   "metadata": {},
   "outputs": [],
   "source": [
    "data_df = data_df[(data_df.annual_inc <= 150_000)]\n",
    "data_df.annual_inc.describe()"
   ]
  },
  {
   "cell_type": "code",
   "execution_count": null,
   "id": "ef2464be-a918-4483-89fd-63f9180dc31f",
   "metadata": {},
   "outputs": [],
   "source": [
    "plt.figure(figsize=(3, 8))\n",
    "sns.boxplot(data_df.annual_inc)\n",
    "plt.title('Annual Income')\n",
    "plt.xticks(ticks=[])\n",
    "plt.show()"
   ]
  },
  {
   "cell_type": "code",
   "execution_count": null,
   "id": "43712550-c14a-447d-940e-479e7bd5550c",
   "metadata": {},
   "outputs": [],
   "source": [
    "plt.figure(figsize=(10, 5))\n",
    "sns.histplot(data_df.annual_inc, kde=True)\n",
    "plt.title('Annual Income')\n",
    "plt.xlabel(\"\")\n",
    "plt.ylabel(\"\")\n",
    "plt.show()"
   ]
  },
  {
   "cell_type": "markdown",
   "id": "628efd1a-7505-4553-9783-2fbcef5f39b5",
   "metadata": {},
   "source": [
    "We observe that:\n",
    "- The median annual income is USD 57K\n",
    "- Income of most of the applicants lie below USD 80K"
   ]
  },
  {
   "cell_type": "markdown",
   "id": "ad47ad3d-3106-4d2d-bb19-a5023e6a8ee8",
   "metadata": {},
   "source": [
    "### Loan amount"
   ]
  },
  {
   "cell_type": "code",
   "execution_count": null,
   "id": "ff1a91c2-12c8-46a0-947e-07ea3fd3d00b",
   "metadata": {},
   "outputs": [],
   "source": [
    "data_df.loan_amnt.describe()"
   ]
  },
  {
   "cell_type": "code",
   "execution_count": null,
   "id": "9a62f1da-1309-40d1-90e5-d94ba33501ca",
   "metadata": {},
   "outputs": [],
   "source": [
    "plt.figure(figsize=(3, 8))\n",
    "sns.boxplot(data_df.loan_amnt)\n",
    "plt.title('Loan Amount')\n",
    "plt.show()"
   ]
  },
  {
   "cell_type": "markdown",
   "id": "278f582b-0dc1-4b37-8459-eff74a76fad0",
   "metadata": {},
   "source": [
    "We observe that:\n",
    "- The median amount that is applied for is USD 9600\n",
    "- Only 25% of the applicants have applied for amounts greater than USD 15000"
   ]
  },
  {
   "cell_type": "code",
   "execution_count": null,
   "id": "da1637e0-55f2-4047-9eda-517454ab01d1",
   "metadata": {},
   "outputs": [],
   "source": [
    "plt.figure(figsize=(10, 5))\n",
    "sns.histplot(data_df.loan_amnt, bins=20, kde=True)\n",
    "plt.title('Loan Amount')\n",
    "plt.show()"
   ]
  },
  {
   "cell_type": "markdown",
   "id": "f0b117eb-fa9d-4562-ade8-261d3d11b8a3",
   "metadata": {},
   "source": [
    "### Funded Amount"
   ]
  },
  {
   "cell_type": "code",
   "execution_count": null,
   "id": "3cc67348-5dc0-46c4-bff8-6d2ea2539988",
   "metadata": {},
   "outputs": [],
   "source": [
    "data_df.funded_amnt.describe()"
   ]
  },
  {
   "cell_type": "code",
   "execution_count": null,
   "id": "74b88643-a99d-45d4-8b7d-708b3cc4e9fd",
   "metadata": {},
   "outputs": [],
   "source": [
    "plt.figure(figsize=(3, 8))\n",
    "sns.boxplot(data_df.funded_amnt)\n",
    "plt.title('Funded Amount')\n",
    "plt.show()"
   ]
  },
  {
   "cell_type": "code",
   "execution_count": null,
   "id": "5d84f224-e14b-4c5a-bea7-7a4d926cfead",
   "metadata": {},
   "outputs": [],
   "source": [
    "plt.figure(figsize=(10, 5))\n",
    "sns.histplot(data_df.funded_amnt, kde=True)\n",
    "plt.title('Funded Amount')\n",
    "plt.show()"
   ]
  },
  {
   "cell_type": "markdown",
   "id": "81b70fdf-575b-4a85-b1d6-a0d2f629c1a0",
   "metadata": {},
   "source": [
    "We observe that:\n",
    "- The median amount that is funded by the club is approximately USD 9400"
   ]
  },
  {
   "cell_type": "markdown",
   "id": "019b9f40-cecb-49a4-89d4-0aa98a3c8991",
   "metadata": {},
   "source": [
    "### Amount Funded by Investor"
   ]
  },
  {
   "cell_type": "code",
   "execution_count": null,
   "id": "0cf01340-28b0-4339-8ea8-2b9f767afc41",
   "metadata": {},
   "outputs": [],
   "source": [
    "data_df.funded_amnt_inv.describe()"
   ]
  },
  {
   "cell_type": "code",
   "execution_count": null,
   "id": "6226eadd-de61-4577-ba4b-db13279b0cc2",
   "metadata": {},
   "outputs": [],
   "source": [
    "plt.figure(figsize=(3, 8))\n",
    "sns.boxplot(data_df.funded_amnt_inv)\n",
    "plt.title('Amount Funded by Invertors')\n",
    "plt.xticks(ticks=[])\n",
    "plt.show()"
   ]
  },
  {
   "cell_type": "code",
   "execution_count": null,
   "id": "e9c6d952-aa1c-4666-9bda-1efecd3f035e",
   "metadata": {},
   "outputs": [],
   "source": [
    "plt.figure(figsize=(10, 5))\n",
    "sns.histplot(data_df.funded_amnt_inv, bins=20, kde=True)\n",
    "plt.title('Amount Funded by Invertors')\n",
    "plt.show()"
   ]
  },
  {
   "cell_type": "markdown",
   "id": "8b2afcb6-061b-47ff-978f-2792eb83b74b",
   "metadata": {},
   "source": [
    "We observe that:\n",
    "- The median amount that is funded by the investors is a approximately USD 8600\n",
    "- Only 25% of the loans have been funded for more than USD 14000"
   ]
  },
  {
   "cell_type": "markdown",
   "id": "215f1e1b-6d45-4e35-a7d9-fdfd8763feb0",
   "metadata": {},
   "source": [
    "### Term of the loan"
   ]
  },
  {
   "cell_type": "code",
   "execution_count": null,
   "id": "ec8b364f-9368-48e4-b205-1939c99f6ab0",
   "metadata": {},
   "outputs": [],
   "source": [
    "plt.figure(figsize=(4, 5))\n",
    "data_df.term.value_counts().plot.bar()\n",
    "plt.title(\"Term of the loan\")\n",
    "plt.xticks(ticks=[0 ,1], labels=['36 months', '60 months'], rotation=0)\n",
    "plt.xlabel(\"\")\n",
    "plt.ylabel(\"Number of loans\")\n",
    "plt.show()"
   ]
  },
  {
   "cell_type": "markdown",
   "id": "f453d528-eb2c-4e6b-8448-7af045cfd210",
   "metadata": {},
   "source": [
    "We have loans of 2 type of terms:\n",
    "- 36 months or 3 years\n",
    "- 60 months or 5 years\n",
    "\n",
    "We observe that amount of loans issued for the 36 month period are far more than those issued for 60 month period."
   ]
  },
  {
   "cell_type": "markdown",
   "id": "00bd7e26-238f-4b2a-ab98-b889a8d2cabf",
   "metadata": {},
   "source": [
    "### Interest Rates"
   ]
  },
  {
   "cell_type": "code",
   "execution_count": null,
   "id": "0b84fba6-97b2-4279-a8e0-9cfdbdc25b5a",
   "metadata": {},
   "outputs": [],
   "source": [
    "data_df.int_rate.describe()"
   ]
  },
  {
   "cell_type": "code",
   "execution_count": null,
   "id": "10441dca-d669-4c05-b7aa-123138cb0a61",
   "metadata": {},
   "outputs": [],
   "source": [
    "plt.figure(figsize=(3, 8))\n",
    "sns.boxplot(data_df.int_rate)\n",
    "plt.title('Interest Rate')\n",
    "plt.xticks(ticks=[])\n",
    "plt.show()"
   ]
  },
  {
   "cell_type": "code",
   "execution_count": null,
   "id": "b7356ba0-832b-4376-b2b4-c5416c1a005a",
   "metadata": {},
   "outputs": [],
   "source": [
    "plt.figure(figsize=(10, 5))\n",
    "sns.histplot(data_df.int_rate, bins=50, kde=True)\n",
    "plt.title('Interest Rate')\n",
    "plt.ylabel(None)\n",
    "plt.show()"
   ]
  },
  {
   "cell_type": "markdown",
   "id": "4e320341-6512-4298-841d-2de66cc1d621",
   "metadata": {},
   "source": [
    "We observe that:\n",
    "- **More than 75%** of the loans have an interest rate less than **15%**\n",
    "- **50%** of the loans have an interest rate between ~**9%** and ~**14.5%** "
   ]
  },
  {
   "cell_type": "markdown",
   "id": "94eff865-5ca3-4338-91c5-f52898c4b320",
   "metadata": {},
   "source": [
    "### Installments"
   ]
  },
  {
   "cell_type": "code",
   "execution_count": null,
   "id": "524e64a7-7075-4245-a77d-4ab7ab39d995",
   "metadata": {},
   "outputs": [],
   "source": [
    "data_df.installment.describe()"
   ]
  },
  {
   "cell_type": "code",
   "execution_count": null,
   "id": "eaaf1619-f91e-4afc-867e-d9e58f2a58ca",
   "metadata": {},
   "outputs": [],
   "source": [
    "plt.figure(figsize=(3, 8))\n",
    "sns.boxplot(data_df.installment)\n",
    "plt.title('Installments')\n",
    "plt.xticks(ticks=[])\n",
    "plt.show()"
   ]
  },
  {
   "cell_type": "code",
   "execution_count": null,
   "id": "aa4b804f-7cd4-4e03-bba6-4fcd4409d4b7",
   "metadata": {},
   "outputs": [],
   "source": [
    "plt.figure(figsize=(10, 5))\n",
    "sns.histplot(data_df.installment, kde=True, bins=50)\n",
    "plt.title('Installments')\n",
    "plt.ylabel(None)\n",
    "plt.show()"
   ]
  },
  {
   "cell_type": "markdown",
   "id": "c08a92f1-8682-4058-a5bd-0e239100da24",
   "metadata": {},
   "source": [
    "We observe that:\n",
    "- Median installment paid is ~**USD 275**\n",
    "- **More than 75%** of the monthly installments are **below USD 415**"
   ]
  },
  {
   "cell_type": "markdown",
   "id": "c7b5e249-5f1a-420c-85fc-408a339d050f",
   "metadata": {},
   "source": [
    "### Grade and Sub-Grade"
   ]
  },
  {
   "cell_type": "code",
   "execution_count": null,
   "id": "1b55ac2b-3ee1-4e25-9baa-d152c4ad1cad",
   "metadata": {},
   "outputs": [],
   "source": [
    "plt.figure(figsize=(5, 4))\n",
    "data_df.grade.value_counts().plot.bar()\n",
    "plt.title(\"Grade of loans\")\n",
    "plt.xticks(rotation=0)\n",
    "plt.xlabel(\"\")\n",
    "plt.ylabel(\"Number of loans\")\n",
    "plt.show()"
   ]
  },
  {
   "cell_type": "code",
   "execution_count": null,
   "id": "07c9a6fb-c8c5-4a1c-9de1-3cf56ad5d5ea",
   "metadata": {},
   "outputs": [],
   "source": [
    "plt.figure(figsize=(10, 5))\n",
    "data_df.sub_grade.value_counts().plot.bar()\n",
    "plt.title(\"Sub-Grade of loans\")\n",
    "plt.xticks(rotation=0)\n",
    "plt.xlabel(\"\")\n",
    "plt.ylabel(\"Number of loans\")\n",
    "plt.show()"
   ]
  },
  {
   "cell_type": "markdown",
   "id": "50165945-84b5-4257-acc0-082cc3db3055",
   "metadata": {},
   "source": [
    "We observe that:\n",
    "- Most of the loans are **Grade B**, followed by **A**, and **C**\n",
    "- Most of the loans are of sub-grade **A4** followed by **B3**, and**A5**"
   ]
  },
  {
   "cell_type": "markdown",
   "id": "2ba92982-b8d1-4c28-9f72-0e0fbd9a1fb7",
   "metadata": {},
   "source": [
    "### Employee Title\n",
    "\n",
    "> **NOTE**: The values of this columns are text. We observe that values indicating same employer name are repeated in different cases, and spellings. We tackled the case earlier by converting every value to upper case. "
   ]
  },
  {
   "cell_type": "code",
   "execution_count": null,
   "id": "ee2a501d-320c-476e-be57-efd01bb0e317",
   "metadata": {
    "scrolled": true
   },
   "outputs": [],
   "source": [
    "data_df.emp_title.value_counts()[:10]"
   ]
  },
  {
   "cell_type": "markdown",
   "id": "43b3a4c4-d696-4a6a-a887-016ef3ab30ea",
   "metadata": {},
   "source": [
    "We observed that:\n",
    "- Most of the loans are issued to **US Army**"
   ]
  },
  {
   "cell_type": "markdown",
   "id": "a3b54be7-df73-4258-81e5-b260804efdf2",
   "metadata": {},
   "source": [
    "### Employee Length"
   ]
  },
  {
   "cell_type": "code",
   "execution_count": null,
   "id": "518c47d0-e9a8-4374-b824-9f480d1a5ed3",
   "metadata": {},
   "outputs": [],
   "source": [
    "data_df.emp_length.value_counts()"
   ]
  },
  {
   "cell_type": "code",
   "execution_count": null,
   "id": "f1d394d1-49a5-4681-81a3-622f34981296",
   "metadata": {},
   "outputs": [],
   "source": [
    "plt.figure(figsize=(10, 5))\n",
    "data_df.emp_length.value_counts().plot.bar()\n",
    "plt.title(\"Years of Continuous Employement\")\n",
    "plt.xticks(rotation=0)\n",
    "plt.xlabel(\"\")\n",
    "plt.ylabel(\"Number of loans\")\n",
    "plt.show()"
   ]
  },
  {
   "cell_type": "markdown",
   "id": "9d9ebc83-7094-43b6-a481-7945796382b7",
   "metadata": {},
   "source": [
    "We observe that:\n",
    "- More than ~**8300** applicants have **more than 10 years** of continuous employment\n",
    "- Applicant with **less than 1 year** of experience are a distant second"
   ]
  },
  {
   "cell_type": "markdown",
   "id": "11c8dcd3-94ed-404e-ade9-419708af9a46",
   "metadata": {},
   "source": [
    "### Home Ownership"
   ]
  },
  {
   "cell_type": "code",
   "execution_count": null,
   "id": "3c31d4b8-bd3f-441f-a900-0f078a0c0f12",
   "metadata": {},
   "outputs": [],
   "source": [
    "data_df.home_ownership.value_counts()"
   ]
  },
  {
   "cell_type": "code",
   "execution_count": null,
   "id": "5b385463-552e-4fa1-a328-5d49eb160772",
   "metadata": {},
   "outputs": [],
   "source": [
    "plt.figure(figsize=(10, 5))\n",
    "data_df.home_ownership.value_counts().plot.bar()\n",
    "plt.title(\"Type of home ownership\")\n",
    "plt.xticks(rotation=0)\n",
    "plt.xlabel(\"\")\n",
    "plt.ylabel(\"Number of loans\")\n",
    "plt.show()"
   ]
  },
  {
   "cell_type": "markdown",
   "id": "e164e6be-1187-4223-a922-ee3983ec18b6",
   "metadata": {},
   "source": [
    "We observe that:\n",
    "- More than ~**18500** applicants are renters, closely followed by applicates with mortgage"
   ]
  },
  {
   "cell_type": "markdown",
   "id": "7a94893d-8128-411f-82cf-a6be79ce4564",
   "metadata": {},
   "source": [
    "### Verification Status of Income"
   ]
  },
  {
   "cell_type": "code",
   "execution_count": null,
   "id": "4b67c547-efd7-4790-b89b-4a6ffe38fb7a",
   "metadata": {},
   "outputs": [],
   "source": [
    "data_df.verification_status.value_counts()"
   ]
  },
  {
   "cell_type": "code",
   "execution_count": null,
   "id": "2085c952-873d-444f-8b62-96134f9f4681",
   "metadata": {},
   "outputs": [],
   "source": [
    "plt.figure(figsize=(10, 5))\n",
    "data_df.verification_status.value_counts().plot.bar()\n",
    "plt.title(\"Status of Income/Income source Verification\")\n",
    "plt.xticks(rotation=0)\n",
    "plt.xlabel(\"\")\n",
    "plt.ylabel(\"Number of loans\")\n",
    "plt.show()"
   ]
  },
  {
   "cell_type": "markdown",
   "id": "c7d8b39b-39d0-4e9c-a319-f7b127c73553",
   "metadata": {},
   "source": [
    "We observe that:\n",
    "- ~**44%** applicants' income is not verified\n",
    "- Only ~**25%** of the applicants' source of income is verified"
   ]
  },
  {
   "cell_type": "markdown",
   "id": "de5f4be9-9896-4178-b351-6c9fae32182e",
   "metadata": {},
   "source": [
    "### Loan Status"
   ]
  },
  {
   "cell_type": "code",
   "execution_count": null,
   "id": "12ae65db-c4d6-4be4-978b-549aed60c3ae",
   "metadata": {},
   "outputs": [],
   "source": [
    "data_df.loan_status.value_counts() # / (~data_df.loan_status.isna()).sum()"
   ]
  },
  {
   "cell_type": "code",
   "execution_count": null,
   "id": "b3f8625a-5803-4bb2-9e84-f03974a4e50c",
   "metadata": {},
   "outputs": [],
   "source": [
    "plt.figure(figsize=(10, 5))\n",
    "data_df.loan_status.value_counts().plot.bar()\n",
    "plt.title(\"Status of loan\")\n",
    "plt.xticks(rotation=0)\n",
    "plt.xlabel(\"\")\n",
    "plt.ylabel(\"Number of loans\")\n",
    "plt.show()"
   ]
  },
  {
   "cell_type": "markdown",
   "id": "6fe03e17-16fc-447e-b26e-0548473bc7e6",
   "metadata": {},
   "source": [
    "We observe that:\n",
    "- More than **31K** loans have been fully paid\n",
    "- **~5.5K** loans are actually bad loans i.e. the applicants defaulted"
   ]
  },
  {
   "cell_type": "markdown",
   "id": "4b244ec0-cee8-4cf3-88e7-186e03ae9e0f",
   "metadata": {},
   "source": [
    "### Description of the loan"
   ]
  },
  {
   "cell_type": "code",
   "execution_count": null,
   "id": "5d09ebb1-ca9f-41d7-ae1e-953515ea05cb",
   "metadata": {
    "scrolled": true
   },
   "outputs": [],
   "source": [
    "data_df['desc'].apply(lambda x: x.strip().lower() if isinstance(x, str) else x)"
   ]
  },
  {
   "cell_type": "markdown",
   "id": "e98828b4-e2a8-415d-8a2d-afe807885bea",
   "metadata": {},
   "source": [
    "### Purpose of Loan"
   ]
  },
  {
   "cell_type": "code",
   "execution_count": null,
   "id": "9f208664-91f2-45e6-8f8d-818ad658eded",
   "metadata": {},
   "outputs": [],
   "source": [
    "data_df.purpose.value_counts() / (~data_df.purpose.isna()).sum()"
   ]
  },
  {
   "cell_type": "code",
   "execution_count": null,
   "id": "2937c92c-bdfe-48fd-a55b-53931353bfce",
   "metadata": {},
   "outputs": [],
   "source": [
    "plt.figure(figsize=(10, 5))\n",
    "data_df.purpose.value_counts().plot.barh()\n",
    "plt.title(\"Category of loan purpose\")\n",
    "plt.ylabel(\"\")\n",
    "plt.xlabel(\"Number of loans\")\n",
    "plt.show()"
   ]
  },
  {
   "cell_type": "markdown",
   "id": "9ac997d8-47ac-4a10-a50a-2a156ecd1a77",
   "metadata": {},
   "source": [
    "We observe that:\n",
    "- Most popular reason for applying for a loan is **debt consilidation (~47%)**\n",
    "- Least number of loan application are for **Renewable Energy**, **Education**, and **Housing** "
   ]
  },
  {
   "cell_type": "markdown",
   "id": "bf66075c-7422-4e1d-9b65-c68b1fc5d43f",
   "metadata": {},
   "source": [
    "### Title"
   ]
  },
  {
   "cell_type": "code",
   "execution_count": null,
   "id": "bf3b57a5-5677-4a0a-9670-93eda7e475f9",
   "metadata": {
    "scrolled": true
   },
   "outputs": [],
   "source": [
    "data_df['title'] = data_df.title.apply(lambda x: x.strip().lower() if not isinstance(x, float) else x)"
   ]
  },
  {
   "cell_type": "code",
   "execution_count": null,
   "id": "608a58a6-c16a-4531-ae76-2ac4ed274059",
   "metadata": {},
   "outputs": [],
   "source": [
    "data_df.title.value_counts()[:10]"
   ]
  },
  {
   "cell_type": "markdown",
   "id": "e8a6089b-3dcf-4752-8c7f-c3e353d14777",
   "metadata": {},
   "source": [
    "We observe that:\n",
    "- Most loans are applied for **Debt Consolidation**"
   ]
  },
  {
   "cell_type": "markdown",
   "id": "81c15705-9069-4d3e-abb5-8fbe7ea5addd",
   "metadata": {},
   "source": [
    "### State of residence "
   ]
  },
  {
   "cell_type": "code",
   "execution_count": null,
   "id": "4bb86c58-308a-45c8-a195-f27e76409468",
   "metadata": {
    "scrolled": true
   },
   "outputs": [],
   "source": [
    "data_df.addr_state.value_counts()"
   ]
  },
  {
   "cell_type": "code",
   "execution_count": null,
   "id": "5658c255-8b0b-4d85-91ff-4b40286636d3",
   "metadata": {},
   "outputs": [],
   "source": [
    "plt.figure(figsize=(10, 5))\n",
    "data_df.addr_state.value_counts()[:5].plot.bar()\n",
    "plt.title(\"Top-5 States with most applicants\")\n",
    "plt.xticks(rotation=0)\n",
    "plt.xlabel(\"\")\n",
    "plt.ylabel(\"Number of loans\")\n",
    "plt.show()"
   ]
  },
  {
   "cell_type": "code",
   "execution_count": null,
   "id": "18cf3b32-2bba-45be-94a9-4e0946058a47",
   "metadata": {},
   "outputs": [],
   "source": [
    "plt.figure(figsize=(10, 5))\n",
    "data_df.addr_state.value_counts()[-5:].plot.bar()\n",
    "plt.title(\"Top-5 States with least applicants\")\n",
    "plt.xticks(rotation=0)\n",
    "plt.xlabel(\"\")\n",
    "plt.ylabel(\"Number of loans\")\n",
    "plt.show()"
   ]
  },
  {
   "cell_type": "markdown",
   "id": "cf9c5ee3-f14f-45eb-81e8-f1f8447f94b1",
   "metadata": {},
   "source": [
    "We observe that:\n",
    "- Most applicants are from the California, New York and Florida\n",
    "- Iowa, Nebraska, and Maine are the states with least number of loan applications"
   ]
  },
  {
   "cell_type": "markdown",
   "id": "c20274b4-629a-4f42-9ba2-78c67f98f80a",
   "metadata": {},
   "source": [
    "### Debt-To-Income Ratio"
   ]
  },
  {
   "cell_type": "code",
   "execution_count": null,
   "id": "d6b55508-aa62-4d74-8b0e-ea47e554cc3d",
   "metadata": {},
   "outputs": [],
   "source": [
    "data_df.dti.describe()"
   ]
  },
  {
   "cell_type": "code",
   "execution_count": null,
   "id": "1c9d6db1-ed84-4d15-b3a1-670cdb883b5e",
   "metadata": {},
   "outputs": [],
   "source": [
    "plt.figure(figsize=(3, 8))\n",
    "sns.boxplot(data_df.dti)\n",
    "plt.title('Debt to Income Ratio')\n",
    "plt.xticks(ticks=[])\n",
    "plt.show()"
   ]
  },
  {
   "cell_type": "code",
   "execution_count": null,
   "id": "c7f3f67a-1fc9-4a88-aac3-3f358cb21747",
   "metadata": {},
   "outputs": [],
   "source": [
    "plt.figure(figsize=(10, 5))\n",
    "sns.histplot(data_df.dti, kde=True)\n",
    "plt.title('Amount Funded by Invertors')\n",
    "plt.show()"
   ]
  },
  {
   "cell_type": "markdown",
   "id": "57584b25-6529-4c22-bcf7-18496d98bd6c",
   "metadata": {},
   "source": [
    "We observe that:\n",
    "- The median ratio is 13.5, which is a quite good\n",
    "- 25% of the applicants have DTI > 18.7"
   ]
  },
  {
   "cell_type": "markdown",
   "id": "2bf8eadb-60e4-4253-bc1c-3ae396277fde",
   "metadata": {},
   "source": [
    "### Deliquincy in the past 2 years"
   ]
  },
  {
   "cell_type": "code",
   "execution_count": null,
   "id": "fa6d2411-7924-4025-a80a-80d7bca16c83",
   "metadata": {},
   "outputs": [],
   "source": [
    "data_df.delinq_2yrs.value_counts()"
   ]
  },
  {
   "cell_type": "code",
   "execution_count": null,
   "id": "7294e13b-6936-44d9-923b-de5df1418051",
   "metadata": {},
   "outputs": [],
   "source": [
    "plt.figure(figsize=(10, 5))\n",
    "data_df.delinq_2yrs.value_counts()[1:].plot.bar()\n",
    "plt.title(\"Number of delinqueny cases\")\n",
    "plt.xticks(rotation=0)\n",
    "plt.xlabel(\"\")\n",
    "plt.ylabel(\"Number of loans\")\n",
    "plt.show()"
   ]
  },
  {
   "cell_type": "markdown",
   "id": "cc9916a3-f90d-4acd-8915-6ef659028452",
   "metadata": {},
   "source": [
    "We observe that:\n",
    "- Most of the applicants have not shown any delinquent behviour in the past 2 years\n",
    "- Less than 100 applicant have a record of 4 or more delinquency incidence in past 2 year"
   ]
  },
  {
   "cell_type": "markdown",
   "id": "3d1a759d-8928-4fcf-ac5a-f45b8c93fa77",
   "metadata": {},
   "source": [
    "### Inquiries made in the past 6 months"
   ]
  },
  {
   "cell_type": "code",
   "execution_count": null,
   "id": "d0cd0c84-cfd3-4593-8aaf-9d661fb37c6e",
   "metadata": {},
   "outputs": [],
   "source": [
    "data_df.inq_last_6mths.value_counts()"
   ]
  },
  {
   "cell_type": "code",
   "execution_count": null,
   "id": "0aa2a488-9527-4926-95b6-d61c34d98e36",
   "metadata": {},
   "outputs": [],
   "source": [
    "plt.figure(figsize=(10, 5))\n",
    "data_df.inq_last_6mths.value_counts().plot.bar()\n",
    "plt.title(\"Number of delinqueny cases\")\n",
    "plt.xticks(rotation=0)\n",
    "plt.xlabel(\"\")\n",
    "plt.ylabel(\"Number of loans\")\n",
    "plt.show()"
   ]
  },
  {
   "cell_type": "code",
   "execution_count": null,
   "id": "b8f4924e-c756-43e0-93e1-60a75f4a7b3b",
   "metadata": {},
   "outputs": [],
   "source": []
  }
 ],
 "metadata": {
  "kernelspec": {
   "display_name": "Python 3 (ipykernel)",
   "language": "python",
   "name": "python3"
  },
  "language_info": {
   "codemirror_mode": {
    "name": "ipython",
    "version": 3
   },
   "file_extension": ".py",
   "mimetype": "text/x-python",
   "name": "python",
   "nbconvert_exporter": "python",
   "pygments_lexer": "ipython3",
   "version": "3.10.9"
  }
 },
 "nbformat": 4,
 "nbformat_minor": 5
}
